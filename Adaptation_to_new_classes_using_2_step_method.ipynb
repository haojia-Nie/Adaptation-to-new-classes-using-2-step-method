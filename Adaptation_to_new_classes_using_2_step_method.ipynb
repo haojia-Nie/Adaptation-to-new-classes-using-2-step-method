{
  "cells": [
    {
      "cell_type": "markdown",
      "metadata": {
        "id": "iTGG9Bl_BpAg"
      },
      "source": [
        "# **Adaptation to new classes using 2-step method**\n",
        "\n",
        "Group Member: Chenchen Tang, Haojia Nie\n"
      ]
    },
    {
      "cell_type": "markdown",
      "metadata": {
        "id": "1QrkwsqeEkB7"
      },
      "source": [
        "This work explores the method using unsupervised to train classification network to detect K+N classes. Given K classes with labels, we use them to train a supervised convolutional neural network. Our goal for this step is to minimize the loss and produce relatively high accuracy for the detection of the K classes. Then we use the trained network and input it with (K+N) classes, which N classes unseen by the network. In this step, we exclude the top dense layers of the trained network and only collect the middle layer features produced by the network. Then we use those features to perform K-means clustering and the classification yield by the clustering would be our prediction result.\n",
        "\n",
        "Besides from that, we've also tried a new way of preprocess the dataset. Instead of using the original image and and apply transformations. We create artificial sample image by randomly choose X images from the same class and combine them together. It helps the network to learn more features and yield a better accuracy for the K+N class detection. \n",
        "\n",
        "The main goal of the project is to produce a way of classification that is able to adapt to new classes. We have demonstrated that using the features of the trained network for clustering performs better than regular K-means using original images. It has been shown that it has the better capability for the classification of unseen classes."
      ]
    },
    {
      "cell_type": "markdown",
      "metadata": {
        "id": "S82gipK-Drru"
      },
      "source": [
        "## Team member and contributions\n",
        "\n",
        "Working together\n",
        "\n",
        "*  Search for related resources (paper & tutorial)\n",
        "*  Talk about Central Ideas of project\n",
        "*  Finish Part 3 (Mixing Image and Data Augmentation)\n",
        "*  Finish Part 2a (Creating Network for fully supervised training)\n",
        "*  Test & Debug the whole project\n",
        "*  Talk about the Final Conclusion\n",
        "\n",
        "Chenchen Tang\n",
        "  \n",
        "\n",
        "*   Finish first draft of project (Separate each section in assignment version & Offers some starter code)\n",
        "*   Finish Part 1(a), 1(b) (Initialization and Dataset Preparation / Loading)\n",
        "*   Finish Part 2(b) (Create Own Loss Function, Add Regularization)\n",
        "*   Finish Part 3 (Fully Supervised Train Block & Evaluate Accuracy)\n",
        "*   Finish Part 5(c) (Count clusters and separate them)\n",
        "*   Finish Part 6 ”Manually assign label to cluster” method for evalution\n",
        "*   Finish Part 6(a), 6(b) Generate code to summarize all evaluation\n",
        "\n",
        "Haojia Nie\n",
        "\n",
        "\n",
        "*   Finish Part 1(c) (Create original, diy, combine datasets)\n",
        "*   Finish Part 5(a), 5(b) (Encoder & Decoder of the Unsupervised Section)\n",
        "*   Finish Part 6 (Purity and Rand Index Evalution Methods)\n",
        "*   Polish the code and reorganize the structure (Rewrite code in Classes & Methods format)\n",
        "*   Write the Abstract and Add detailed explaination in the middle section.\n",
        "*   Expand bullet point into Final Conclusion, and add Reference\n",
        "\n"
      ]
    },
    {
      "cell_type": "markdown",
      "metadata": {
        "id": "WW4P0liXFlRP"
      },
      "source": [
        "## **Part 1: Initialization and Dataset Preparation**\n",
        "In this part, we will do initializations of the whole project who includes the following steps\n",
        "\n",
        "1.   Import the libraries will be used\n",
        "2.   Image Preprocessing and Dataset Loading\n",
        "3.   Mixing Image and Data Augmentation\n",
        "\n"
      ]
    },
    {
      "cell_type": "markdown",
      "metadata": {
        "id": "qTYcA6DAFqCd"
      },
      "source": [
        "#### **a. Import Code Libraries**\n",
        "\n",
        "In this section, we will list out the libraries we use and the importance of using it \n",
        "  * time\n",
        "     * This module provides the time-related functions and we use it to record the time an algorithm or a training takes.\n",
        "  * numpy\n",
        "      * This module provides the array processing functions and we use it for doing array and matrix manupilation.\n",
        "  * matplotlib.pyplot\n",
        "      * This module provides a way to visualize data and we use it to showcase the sample data, learning curve etc.\n",
        "  * pandas\n",
        "      * This module provides the streamlined form of data frame and we used it for doing data analysis and manipulation\n",
        "  * torch\n",
        "      * This module offers a way to create tensor and building network and we used it for building the classification neural network pipeline.\n",
        "  * keras.datasets\n",
        "      * keras.datasets provides a few datasets for machine learning and we used the Fashion MNIST datasets. \n",
        "  * torchvision\n",
        "      * torchvision is a library that provides the computer vision features that can be used with pyTorch, and we use it for image transformation. \n",
        "  * sklearn\n",
        "      * sklearn is a predictive data analysis tools that is compatible with numpy, scipy and matplotlib. We use it to analyse the data including evaluate the performance of clustering and etc.\n",
        "\n",
        "  * itertools\n",
        "      * This implies that the loss function need to be improved for better indication of model accuracy and the network itself may require some redesign."
      ]
    },
    {
      "cell_type": "code",
      "execution_count": null,
      "metadata": {
        "id": "9PmWJ10uHbFu"
      },
      "outputs": [],
      "source": [
        "# Import python Libraries\n",
        "import time\n",
        "\n",
        "# Import essential libraries for data manipulations.\n",
        "import numpy as np\n",
        "import matplotlib.pyplot as plt\n",
        "import pandas as pd\n",
        "import random\n",
        "import itertools\n",
        "\n",
        "# Import libraries for network and k-means\n",
        "import torch\n",
        "import torch.nn.functional as F\n",
        "from torch import nn, optim\n",
        "from torch.utils.data import TensorDataset, DataLoader\n",
        "import torchvision.transforms as transforms\n",
        "import torchvision.transforms.functional as tF\n",
        "from keras.datasets import fashion_mnist\n",
        "from keras import backend\n",
        "from torchvision import datasets, utils, models\n",
        "from sklearn.mixture import GaussianMixture\n",
        "from sklearn.cluster import KMeans\n",
        "from sklearn.decomposition import PCA\n",
        "from sklearn.metrics.cluster import homogeneity_score, normalized_mutual_info_score, adjusted_rand_score\n",
        "from sklearn.model_selection import train_test_split\n"
      ]
    },
    {
      "cell_type": "markdown",
      "metadata": {
        "id": "63n78AmipBbe"
      },
      "source": [
        "#### **b. Image Preprocessing and Dataset Loading**\n",
        "\n",
        "1. Image Preprocessing \n",
        "\n",
        "    We use several transform function to preprocess the training dataset including Random Crop, Padding, Random Horizontal Flip and Normalization. The reason we add the randomess in the image process (Flip and Crop) is to artificially augment the dataset so that each iteration the network will take a slightly different input. The reason behind cropping is to deal with the potential size difference between each images. Finally, we perform normalization to make the mean and std of each image to be 0 and 1 respectively.\n",
        "\n",
        "2. Choose Dataset \n",
        "\n",
        "    We choose the Fashion MNIST dataset to do classification. The advantages of choosing Fashion MNIST over other dataset is because this dataset better models the real-world computer vision data. And at the same time, it is not as complicated as the real world data which makes it suitable for this group project. \n",
        "\n",
        "3. Data Loading\n",
        "\n",
        "    We load the dataset using torch DataLoader.\n"
      ]
    },
    {
      "cell_type": "code",
      "execution_count": null,
      "metadata": {
        "id": "rXWJBmRiHg8R"
      },
      "outputs": [],
      "source": [
        "# Define Batch Size \n",
        "batch_size = 64\n",
        "\n",
        "random.seed(0)\n",
        "torch.manual_seed(0)\n",
        "\n",
        "# Define the transformatino for train data\n",
        "train_transform = transforms.Compose([# transforms.ToTensor(),\n",
        "                    # should NOT use RandomResizeCrop too harshly, because this is not a\n",
        "                    # segmentation problem, where each pixel in the output corresponds to the input\n",
        "                    # transforms.RandomCrop(20), # multiple of num_cut\n",
        "                    # transforms.Resize(28, interpolation=transforms.InterpolationMode.NEAREST),\n",
        "                    # transforms.Pad(4),\n",
        "                    transforms.RandomHorizontalFlip(),\n",
        "                    transforms.Normalize((0.5,), (0.5,))])\n",
        "\n",
        "# Define the transformation for test data \n",
        "test_transform = transforms.Compose([transforms.ToTensor()])"
      ]
    },
    {
      "cell_type": "code",
      "execution_count": null,
      "metadata": {
        "id": "ZQ5cINxwVbcN"
      },
      "outputs": [],
      "source": [
        "# Download and load the training data\n",
        "trainset = datasets.FashionMNIST('~/.pytorch/F_MNIST_data/',\n",
        "                  download=True,\n",
        "                  train=True)\n",
        "trainloader = DataLoader(trainset,\n",
        "                      batch_size=batch_size,\n",
        "                      shuffle=True)\n",
        "\n",
        "# Download and load the test data\n",
        "testset = datasets.FashionMNIST('~/.pytorch/F_MNIST_data/', \n",
        "                  download=True,\n",
        "                  train=False,\n",
        "                  transform=test_transform)\n",
        "testloader = DataLoader(testset,\n",
        "                      batch_size=batch_size,\n",
        "                      shuffle=True)\n"
      ]
    },
    {
      "cell_type": "markdown",
      "metadata": {
        "id": "5kL-3aGyJ79G"
      },
      "source": [
        "#### **c. Mixing Image and Data Augmentation**\n",
        "\n",
        "\n",
        "\n",
        "#####**Methodology**\n",
        "This part is to create our training dataset by combine the original image and mixing normal images which we will explain later.\n",
        "\n",
        "Here we propose a way of creating a single sample image by randomly choose k images from the same class and combine them togher. For example, if we crop it 2 times, one from the center of horizontal line and another from the center of the vertical line. The combined image will be assembled by the cropped pieces of 4 images as shown below.\n",
        "\n",
        "<pre>\n",
        "------------------------\n",
        "            |\n",
        "   img1     |  img2 \n",
        "            |\n",
        "------------------------ \n",
        "            |\n",
        "   img3     |  img4\n",
        "            |\n",
        "------------------------ \n",
        "</pre>\n",
        "\n"
      ]
    },
    {
      "cell_type": "markdown",
      "metadata": {
        "id": "AH8XxuIG5u8A"
      },
      "source": [
        "#####**Implementation Details**\n",
        "\n",
        "First, we implement reconstruct function that randomly choose n images from the same class in dataset. Then it crops each image and combine together and create the mixed image. We named this dataset train_X_diy, train_y_diy. \n",
        "\n",
        "Then, to create the training set, we concatenate the original dataset with the mixed image dataset and get train_X_comb and train_y_comb. This is the preprocess of the dataset.\n",
        "\n",
        "After that, we seperated the dataset(train_X_comb, train_y_comb) into two sets. The first training set has K classes (train_lX_comb, train_ly_comb). We will be using this set for the fully supervised network. Another set has N classes (train_uX_comb, train_uy_comb) and we will be erase their labels. This dataset will be used in the unsupervised classification. \n",
        "\n",
        "\n",
        "Also we create (trainX_flatten) for the comparison test in later section \n",
        "\n",
        "\n"
      ]
    },
    {
      "cell_type": "code",
      "execution_count": null,
      "metadata": {
        "id": "tu-imIMiOS0e"
      },
      "outputs": [],
      "source": [
        "# Define K,  N and classes\n",
        "classes = list(trainset.class_to_idx.keys())\n",
        "K = 7\n",
        "N = len(classes) - K"
      ]
    },
    {
      "cell_type": "code",
      "execution_count": null,
      "metadata": {
        "id": "O-OmapEYPfSp"
      },
      "outputs": [],
      "source": [
        "# Define reconstruct marix\n",
        "\n",
        "def reconstruct(img, target, num_cut, num_dup, num_classes):\n",
        "\n",
        "  # initialize rescontrstuct image, target\n",
        "  reconstruct_img = []\n",
        "  reconstruct_target = []\n",
        "\n",
        "  # Calculate the width and height we need to cut\n",
        "  cut_width = img.size()[1] // num_cut\n",
        "  cut_height = img.size()[2] // num_cut\n",
        "\n",
        "  # define random matrix \n",
        "  rand_matrix = np.random.randint(0, img.size()[0] // num_classes, size=(num_dup,num_cut,num_cut))\n",
        "\n",
        "  # create the reconstrcted image, target\n",
        "  for label in range(num_classes):\n",
        "    img_pool = img[target == label]\n",
        "    for count in range(num_dup):\n",
        "      new_img = np.zeros((img.size()[1], img.size()[2]))\n",
        "\n",
        "      # assign each part with a random image section in the same class\n",
        "      for i in range(num_cut):\n",
        "        for j in range(num_cut):\n",
        "          i1, i2 = i*cut_width, (i+1)*cut_width\n",
        "          j1, j2 = j*cut_height, (j+1)*cut_height\n",
        "          img_idx = rand_matrix[count,i,j]\n",
        "          new_img[i1:i2,j1:j2] = img_pool[img_idx,i1:i2,j1:j2]\n",
        "        \n",
        "      # append the reconstructed image to the list\n",
        "      reconstruct_img.append(list(new_img))\n",
        "      reconstruct_target.append(label)\n",
        "    print(label)\n",
        "  return torch.FloatTensor(reconstruct_img), torch.LongTensor(reconstruct_target)\n"
      ]
    },
    {
      "cell_type": "code",
      "execution_count": null,
      "metadata": {
        "colab": {
          "base_uri": "https://localhost:8080/"
        },
        "id": "uwZ3n9apS3Gu",
        "outputId": "4191ae33-ec34-40f5-f195-d089161d7e7b"
      },
      "outputs": [
        {
          "output_type": "stream",
          "name": "stdout",
          "text": [
            "0\n",
            "1\n",
            "2\n",
            "3\n",
            "4\n",
            "5\n",
            "6\n",
            "7\n",
            "8\n",
            "9\n"
          ]
        },
        {
          "output_type": "stream",
          "name": "stderr",
          "text": [
            "/usr/local/lib/python3.7/dist-packages/ipykernel_launcher.py:34: UserWarning: Creating a tensor from a list of numpy.ndarrays is extremely slow. Please consider converting the list to a single numpy.ndarray with numpy.array() before converting to a tensor. (Triggered internally at  ../torch/csrc/utils/tensor_new.cpp:201.)\n"
          ]
        }
      ],
      "source": [
        "# Get the training data where X stands for the object and y stands for the target\n",
        "train_X = trainset.data.type(torch.FloatTensor)\n",
        "train_y = trainset.targets\n",
        "\n",
        "test_X = testset.data.type(torch.FloatTensor)\n",
        "test_y = testset.targets\n",
        "\n",
        "# Method 0: Obtain the original data set train_x and train_y\n",
        "train_X_orig = train_X.clone().detach()\n",
        "train_y_orig = train_y.clone().detach()\n",
        "train_X_orig = train_transform(train_X_orig)\n",
        "trainset_orig = TensorDataset(train_X_orig, train_y_orig)\n",
        "trainloader_orig = DataLoader(trainset_orig, batch_size=batch_size, shuffle=True)\n",
        "\n",
        "# Method 1: Obtain the reconstructed train_x and train_y \n",
        "train_X_diy, train_y_diy = reconstruct(train_X, train_y, num_cut=2, num_dup=6000, num_classes=len(classes))\n",
        "train_X_diy = train_transform(train_X_diy)\n",
        "trainset_diy = TensorDataset(train_X_diy, train_y_diy)\n",
        "trainloader_diy = DataLoader(trainset_diy, batch_size=batch_size, shuffle=True)\n",
        "\n",
        "# Method 2: Obtain the combined data set of the original and reconstructed\n",
        "train_X_comb = torch.cat((train_X_orig, train_X_diy))\n",
        "train_y_comb = torch.cat((train_y_orig, train_y_diy))\n",
        "trainset_comb = torch.utils.data.ConcatDataset([trainset_orig, trainset_diy])\n",
        "trainloader_comb = DataLoader(trainset_comb, batch_size=batch_size, shuffle=True)"
      ]
    },
    {
      "cell_type": "code",
      "execution_count": null,
      "metadata": {
        "colab": {
          "base_uri": "https://localhost:8080/"
        },
        "id": "vfC6iFDJeJ9J",
        "outputId": "9285b67a-b9d8-4690-c19e-b90c0b28e8fb"
      },
      "outputs": [
        {
          "output_type": "stream",
          "name": "stdout",
          "text": [
            "torch.Size([60000, 28, 28])\n",
            "torch.Size([60000, 28, 28])\n",
            "torch.Size([120000, 28, 28])\n"
          ]
        }
      ],
      "source": [
        "print(train_X_orig.size())\n",
        "print(train_X_diy.size())\n",
        "print(train_X_comb.size())"
      ]
    },
    {
      "cell_type": "code",
      "execution_count": null,
      "metadata": {
        "colab": {
          "base_uri": "https://localhost:8080/"
        },
        "id": "R5irANDHa72s",
        "outputId": "4ca9b9ef-5228-46fd-b29b-6346f94575b2"
      },
      "outputs": [
        {
          "output_type": "stream",
          "name": "stdout",
          "text": [
            "random chosen index:  [3, 5, 4, 7, 0, 2, 1]\n"
          ]
        }
      ],
      "source": [
        "# To Filter the K classes we want from the dataset x\n",
        "K = 7\n",
        "arr = random.sample(range(0, 10), K)\n",
        "arr = [3,5,4,7,0,2,1]\n",
        "print(\"random chosen index: \", arr)\n",
        "def filter_K_class(x, chosen = arr):\n",
        "  if x in arr:\n",
        "    return True\n",
        "  return False\n",
        "\n",
        "# Obtain the filtered K Classes\n",
        "def label_train_set(data_X, label_Y):\n",
        "  train_x = data_X.clone().detach()\n",
        "  train_y = label_Y.clone().detach()\n",
        "  idx = np.array([filter_K_class(y) for y in train_y])\n",
        "  train_x = train_x[idx].type(torch.FloatTensor)\n",
        "  train_y = train_y[idx]\n",
        "  trainset = TensorDataset(train_x, train_y)\n",
        "  trainloader = DataLoader(trainset, batch_size=batch_size, shuffle=True)\n",
        "  return trainset, trainloader, train_x, train_y\n",
        "\n",
        "# Obtain the unlabled N classes\n",
        "def unlabel_train_set(data_X, label_Y):\n",
        "  train_X = data_X.clone().detach()\n",
        "  train_y = label_Y.clone().detach()\n",
        "  idx = np.array([filter_K_class(y) for y in train_y])\n",
        "  train_X = train_X[~idx].type(torch.FloatTensor)\n",
        "  train_y = train_y[~idx]\n",
        "  trainset = TensorDataset(train_X, train_y)\n",
        "  trainloader = DataLoader(trainset, batch_size=batch_size, shuffle=True)\n",
        "  return trainset, trainloader, train_X, train_y\n",
        "\n",
        "# labeled training set\n",
        "trainset_l_orig, trainloader_l_orig, train_lX_orig, train_ly_orig = label_train_set(train_X_orig, train_y_orig)\n",
        "trainset_l_diy, trainloader_l_diy, train_lX_diy, train_ly_diy = label_train_set(train_X_diy, train_y_diy)\n",
        "trainset_l_comb, trainloader_l_comb, train_lX_comb, train_ly_comb = label_train_set(train_X_comb, train_y_comb)\n",
        "\n",
        "# unlabled training_set\n",
        "trainset_ul_orig, trainloader_ul_orig, train_uX_orig, train_uy_orig = unlabel_train_set(train_X_orig, train_y_orig)\n",
        "trainset_ul_diy, trainloader_ul_diy, train_uX_diy, train_uy_diy = unlabel_train_set(train_X_diy, train_y_diy)\n",
        "trainset_ul_comb, trainloader_ul_comb, train_uX_comb, train_uy_comb = unlabel_train_set(train_X_comb, train_y_comb)\n",
        "\n",
        "testset_l, testloader_l, testset_lX, testset_ly = label_train_set(test_X, test_y)\n"
      ]
    },
    {
      "cell_type": "code",
      "execution_count": null,
      "metadata": {
        "colab": {
          "base_uri": "https://localhost:8080/"
        },
        "id": "kC4bulsrdLrW",
        "outputId": "8541f0c1-27a9-494e-9b46-c7a0753e7027"
      },
      "outputs": [
        {
          "output_type": "stream",
          "name": "stdout",
          "text": [
            "torch.Size([64, 28, 28]) torch.FloatTensor torch.LongTensor\n",
            "torch.Size([64, 28, 28]) torch.FloatTensor torch.LongTensor\n",
            "torch.Size([60000, 784]) torch.FloatTensor\n",
            "torch.Size([42000, 784]) torch.FloatTensor\n",
            "torch.Size([18000, 784]) torch.FloatTensor\n"
          ]
        }
      ],
      "source": [
        "# Here print the size, type, label type for trainLoader_original\n",
        "for images, labels in trainloader_orig:\n",
        "  print(images.size(), images.type(), labels.type())\n",
        "  break\n",
        "\n",
        "for images, labels in trainloader_l_orig:\n",
        "  print(images.size(), images.type(), labels.type())\n",
        "  break\n",
        "\n",
        "\n",
        "# original total dataset size\n",
        "trainX_flatten = torch.flatten(train_X_orig, 1).type(torch.FloatTensor)\n",
        "print(trainX_flatten.shape, trainX_flatten.type())\n",
        "\n",
        "# the labeled K dataset size\n",
        "trainlX_flatten = torch.flatten(train_lX_orig, 1).type(torch.FloatTensor)\n",
        "print(trainlX_flatten.shape, trainlX_flatten.type())\n",
        "\n",
        "# the unlabeled N dataset size\n",
        "trainX2_flatten = torch.flatten(train_uX_orig, 1).type(torch.FloatTensor)\n",
        "print(trainX2_flatten.shape, trainX2_flatten.type())"
      ]
    },
    {
      "cell_type": "markdown",
      "metadata": {
        "id": "Zs4gjdtRJmwC"
      },
      "source": [
        "(b). The following cell shows some sample image in dataset.\n"
      ]
    },
    {
      "cell_type": "code",
      "execution_count": null,
      "metadata": {
        "colab": {
          "base_uri": "https://localhost:8080/",
          "height": 482
        },
        "id": "pNTVd013KV6Z",
        "outputId": "134e8f1f-fe2e-4e61-b179-49b269db2a04"
      },
      "outputs": [
        {
          "output_type": "display_data",
          "data": {
            "image/png": "[encoded data removed]",
            "text/plain": [
              "<Figure size 576x576 with 9 Axes>"
            ]
          },
          "metadata": {
            "needs_background": "light"
          }
        }
      ],
      "source": [
        "# Display the sample images we have preprocessed\n",
        "def show_sample_img(trainset):\n",
        "\tfigure = plt.figure(figsize=(8, 8))\n",
        "\tcols, rows = 3, 3\n",
        "\tfor i in range(1, cols * rows + 1):\n",
        "\t\tsample_idx = torch.randint(len(trainset), size=(1,)).item()\n",
        "\t\timg, label = trainset[sample_idx]\n",
        "\t\tfigure.add_subplot(rows, cols, i)\n",
        "\t\tplt.title(classes[label])\n",
        "\t\tplt.axis(\"off\")\n",
        "\t\tplt.imshow(img.squeeze(), cmap=\"gray\")\n",
        "\tplt.show()\n",
        "\n",
        "show_sample_img(trainset_diy)"
      ]
    },
    {
      "cell_type": "markdown",
      "metadata": {
        "id": "-yzautidKWdK"
      },
      "source": [
        "## **Part 2: Implement network for fully supervised training**\n",
        "In this part, we implemented the first step of the two-step method which is a supervised network (TRAINED_NET). We train the network by inputting images from K classes.\n"
      ]
    },
    {
      "cell_type": "markdown",
      "metadata": {
        "id": "w7gX3o8Ck0SL"
      },
      "source": [
        "### **(a). Build the Network**"
      ]
    },
    {
      "cell_type": "code",
      "execution_count": null,
      "metadata": {
        "id": "068kFhKyNCfZ"
      },
      "outputs": [],
      "source": [
        "# Define the Network \n",
        "class Net(nn.Module):\n",
        "  def __init__(self, num_classes=len(classes), criterion=None):\n",
        "    super(Net, self).__init__()\n",
        "    self.conv1 = nn.Conv2d(1, 32, 3, 1)\n",
        "    self.conv2 = nn.Conv2d(32, 64, 3, 1)\n",
        "    self.conv3 = nn.Conv2d(64, 4, 3, 1)\n",
        "    self.dropout = nn.Dropout(0.2)\n",
        "    self.fc1 = nn.Linear(1936, 128)\n",
        "    self.fc2 = nn.Linear(128, num_classes)\n",
        "\n",
        "  def forward(self, x, include_top=True):\n",
        "    x = self.conv1(x)\n",
        "    x = F.relu(x)\n",
        "    x = self.conv2(x)\n",
        "    x = F.relu(x)\n",
        "    x = self.conv3(x)\n",
        "    x = F.relu(x)\n",
        "    x = self.dropout(x)\n",
        "    if include_top:\n",
        "      x = torch.flatten(x, 1)\n",
        "      x = self.fc1(x)\n",
        "      x = F.relu(x)\n",
        "      x = self.dropout(x)\n",
        "      x = self.fc2(x)\n",
        "    else:\n",
        "      x = torch.flatten(x, 1)\n",
        "    return x\n"
      ]
    },
    {
      "cell_type": "markdown",
      "metadata": {
        "id": "RB730x9slRic"
      },
      "source": [
        "### **(b). Define Loss Function**"
      ]
    },
    {
      "cell_type": "code",
      "execution_count": null,
      "metadata": {
        "id": "kNO-eRKflU6t"
      },
      "outputs": [],
      "source": [
        "class MyCrossEntropyLoss(nn.Module):\n",
        "\n",
        "  use_custom = False\n",
        "\n",
        "  def __init__(self, params, lam):\n",
        "    super(MyCrossEntropyLoss, self).__init__()\n",
        "    self.params = params\n",
        "    self.lam = lam\n",
        "\n",
        "  def softmax(self, logits):\n",
        "    if self.use_custom:\n",
        "      exp_x = torch.exp(logits - torch.max(logits, 1, keepdim=True)[0])\n",
        "      exp_x_sum = torch.sum(exp_x, 1, keepdim=True)\n",
        "      x = torch.log(exp_x / exp_x_sum)\n",
        "    else:\n",
        "      x = F.log_softmax(logits, -1)\n",
        "    return x\n",
        "\n",
        "  def to_onehot(self, targets, num_classes):\n",
        "    if self.use_custom:\n",
        "      ones = torch.sparse.torch.eye(num_classes)\n",
        "      y = ones.index_select(0, targets.cpu()).to(device)\n",
        "    else:\n",
        "      y = F.one_hot(targets, num_classes=num_classes)\n",
        "    return y\n",
        " \n",
        "  def forward(self, logits, targets):\n",
        "    x = self.softmax(logits)\n",
        "    y = self.to_onehot(targets, logits.size()[1])\n",
        "    loss = - torch.sum(x * y) / logits.size()[0]\n",
        "    reg = 0\n",
        "    for p in self.params:\n",
        "      reg += p.abs().sum()\n",
        "    loss += self.lam * reg\n",
        "    return loss"
      ]
    },
    {
      "cell_type": "markdown",
      "metadata": {
        "id": "vG8wkO8gNPVI"
      },
      "source": [
        "## **Part 3: Fully supervised training**\n",
        "In this part, we will build the network (TRAINED_NET) and trained to classify K classes. Our idea is that we use the images from the K classes for training the network and tunning its parameters. If the network has lower loss value that means it has better capability of differentiating the K classe. Then, in the later K-means classification, the features we use will better differentiate those K class from the N classes and may produce more accurate classification."
      ]
    },
    {
      "cell_type": "markdown",
      "source": [
        "**Note**\n",
        "\n",
        "In our network, we add in an important parameter called include_top. This parameter seperates the fully connected layers and the layers before it. If we set the include_top to be True, we will obtain the features created by the nerual network instead of the final classification label. For now, we set the default value of include_top to be True, later we will set it to False for the use of unsupervised classification. \n",
        "\n"
      ],
      "metadata": {
        "id": "WJooNmjtDCtm"
      }
    },
    {
      "cell_type": "code",
      "execution_count": null,
      "metadata": {
        "id": "SfQZxZn0xpNs"
      },
      "outputs": [],
      "source": [
        "# Define use of GPU or CPU\n",
        "USE_GPU = True\n",
        "device = 'cpu'\n",
        "if USE_GPU:\n",
        "  device = 'cuda'"
      ]
    },
    {
      "cell_type": "code",
      "execution_count": null,
      "metadata": {
        "id": "ZjKK14aaIns2"
      },
      "outputs": [],
      "source": [
        "# We use Cross Entropy Loss as loss function and Adam as Optimizer\n",
        "model = Net().to(device)\n",
        "criterion = MyCrossEntropyLoss(model.parameters(), 0.1)\n",
        "optimizer = torch.optim.Adam(model.parameters())\n",
        "untrained_model = Net().to(device)"
      ]
    },
    {
      "cell_type": "markdown",
      "metadata": {
        "id": "BqXsfh15x0Io"
      },
      "source": [
        "**Epoch**"
      ]
    },
    {
      "cell_type": "code",
      "execution_count": null,
      "metadata": {
        "colab": {
          "base_uri": "https://localhost:8080/"
        },
        "id": "tGt4DD6rN1lH",
        "outputId": "ff5ab51e-c310-408e-d58a-6896a7f90d48"
      },
      "outputs": [
        {
          "output_type": "stream",
          "name": "stdout",
          "text": [
            "Epoch:  0, Train Loss:  2.29, Test Loss:  1.95\n",
            "Epoch:  1, Train Loss:  1.95, Test Loss:  1.95\n",
            "Epoch:  2, Train Loss:  1.95, Test Loss:  1.95\n",
            "Epoch:  3, Train Loss:  1.95, Test Loss:  1.95\n",
            "Epoch:  4, Train Loss:  1.95, Test Loss:  1.95\n",
            "Epoch:  5, Train Loss:  1.95, Test Loss:  1.95\n",
            "Epoch:  6, Train Loss:  1.95, Test Loss:  1.95\n",
            "Epoch:  7, Train Loss:  1.95, Test Loss:  1.95\n",
            "Epoch:  8, Train Loss:  1.95, Test Loss:  1.95\n",
            "Epoch:  9, Train Loss:  1.95, Test Loss:  1.95\n"
          ]
        }
      ],
      "source": [
        "epoch = 10\n",
        "\n",
        "def get_loss(model, trainloader, testloader, epoch):\n",
        "  index = 0\n",
        "  train_loss = []\n",
        "  test_loss = []\n",
        "  test_accu = []\n",
        "  while index < epoch:\n",
        "    run_loss = 0\n",
        "    model.train()\n",
        "    for images, labels in trainloader:\n",
        "\n",
        "      images, labels = images.to(device), labels.to(device)\n",
        "      optimizer.zero_grad()\n",
        "      output = model(images[:,None,:,:])\n",
        "      loss = criterion(output, labels)\n",
        "      loss.backward()\n",
        "      optimizer.step()\n",
        "\n",
        "      run_loss += loss.item()\n",
        "\n",
        "    training_loss = run_loss/len(trainloader)\n",
        "    train_loss.append(training_loss)\n",
        "    print(\"Epoch: {:2}, Train Loss:  {:1.3}\".format(index, training_loss),end=\", \")\n",
        "\n",
        "    run_loss = 0\n",
        "    model.eval()\n",
        "    with torch.no_grad():\n",
        "      for images, labels in testloader:\n",
        "          \n",
        "        images, labels = images.to(device), labels.to(device)\n",
        "        output = model(images[:,None,:,:])\n",
        "        loss = criterion(output, labels)\n",
        "\n",
        "        run_loss += loss.item()\n",
        "\n",
        "    testing_loss = run_loss/len(testloader)\n",
        "    test_loss.append(testing_loss)\n",
        "    print(\"Test Loss:  {:1.3}\".format(testing_loss))\n",
        "    index += 1\n",
        "\n",
        "  return train_loss, test_loss\n",
        "\n",
        "# use the labeled (seen) classes in trainset\n",
        "train_loss, test_loss = get_loss(model, trainloader_l_comb, testloader_l, epoch)"
      ]
    },
    {
      "cell_type": "code",
      "execution_count": null,
      "metadata": {
        "id": "Hbj5SRUF7iNy",
        "colab": {
          "base_uri": "https://localhost:8080/",
          "height": 402
        },
        "outputId": "2be832bd-7e79-4c7a-b967-f2fce6c7745d"
      },
      "outputs": [
        {
          "output_type": "display_data",
          "data": {
            "image/png": "[encoded data removed]",
            "text/plain": [
              "<Figure size 864x432 with 1 Axes>"
            ]
          },
          "metadata": {
            "needs_background": "light"
          }
        }
      ],
      "source": [
        "# Plot the loss curve for the model training\n",
        "def show_loss(train_loss, test_loss):\n",
        "  fig = plt.figure(figsize=(12,6))\n",
        "  plt.subplots_adjust(bottom=0.2,right=0.85,top=0.95)\n",
        "  ax = fig.add_subplot(1,1,1)\n",
        "\n",
        "  ax.clear()\n",
        "  ax.set_xlabel('iterations')\n",
        "  ax.set_ylabel('loss value')\n",
        "  ax.set_title('loss curve for model vs. epochs')\n",
        "  ax.plot(train_loss, label='training loss')\n",
        "  ax.plot(test_loss, label='testing loss')\n",
        "  ax.legend(loc='upper right')\n",
        "  fig.canvas.draw()\n",
        "\n",
        "show_loss(train_loss, test_loss)"
      ]
    },
    {
      "cell_type": "code",
      "source": [
        "# Plot the accuracy curve for the model training\n",
        "# def show_accu(accu_list):\n",
        "#   fig = plt.figure(figsize=(12,6))\n",
        "#   plt.subplots_adjust(bottom=0.2,right=0.85,top=0.95)\n",
        "#   ax = fig.add_subplot(1,1,1)\n",
        "\n",
        "#   ax.clear()\n",
        "#   ax.set_xlabel('iterations')\n",
        "#   ax.set_ylabel('accuracy value')\n",
        "#   ax.set_title('Testing accuracy curve for model')\n",
        "#   ax.plot(accu_list, label='testing accuracy')\n",
        "#   ax.legend(loc='upper right')\n",
        "#   fig.canvas.draw()\n",
        "\n",
        "# show_accu(test_accu)"
      ],
      "metadata": {
        "id": "KoxxI36rXiQY"
      },
      "execution_count": null,
      "outputs": []
    },
    {
      "cell_type": "markdown",
      "metadata": {
        "id": "IccxDCBWN4KC"
      },
      "source": [
        "## **Part 5: Unsupervised training**\n",
        "In this section, we will use unsupervised training to detect K+N classes and the labels for the newly added N classes are removed.\n",
        "\n",
        "\n",
        "\n",
        "\n"
      ]
    },
    {
      "cell_type": "markdown",
      "source": [
        "### **(a). Encoder**<br>\n",
        "The encoder can extract the features output by the model using include_top = False. Then the decoder will do operations including pca and k means to cluster the K+N classes using those features. \n"
      ],
      "metadata": {
        "id": "r2_52RLPH8ms"
      }
    },
    {
      "cell_type": "code",
      "execution_count": null,
      "metadata": {
        "id": "PqM-46FaOSxP"
      },
      "outputs": [],
      "source": [
        "# Given a (pre-trained) model, encode the data into its latent space\n",
        "def encoder(model, data):\n",
        "  model.eval()\n",
        "  output = []\n",
        "  with torch.no_grad():\n",
        "    for image in data:\n",
        "      x = image[None,None].type(torch.FloatTensor).to(device)\n",
        "      output.append(model(x, include_top=False).cpu().numpy())\n",
        "  output = np.array(output)\n",
        "  output = np.reshape(output, (output.shape[0], output.shape[2]))\n",
        "  return output"
      ]
    },
    {
      "cell_type": "code",
      "execution_count": null,
      "metadata": {
        "id": "9w0DDXZyHHGw",
        "colab": {
          "base_uri": "https://localhost:8080/"
        },
        "outputId": "a1f50091-2847-4070-f2bd-a05efe8b224d"
      },
      "outputs": [
        {
          "output_type": "stream",
          "name": "stdout",
          "text": [
            "(60000, 1936)\n",
            "(18000, 1936)\n"
          ]
        }
      ],
      "source": [
        "trainX_encoded = encoder(model, train_X_orig)\n",
        "print(trainX_encoded.shape)\n",
        "trainX2_encoded = encoder(model, train_uX_orig)\n",
        "print(trainX2_encoded.shape)\n",
        "untrainedX2_encoded = encoder(untrained_model, train_uX_orig)"
      ]
    },
    {
      "cell_type": "markdown",
      "metadata": {
        "id": "OvXbiA3RC-z_"
      },
      "source": [
        "### **(b).Decoder**"
      ]
    },
    {
      "cell_type": "code",
      "execution_count": null,
      "metadata": {
        "id": "fX_TCNUWG3HC"
      },
      "outputs": [],
      "source": [
        "class Decoder:\n",
        "\n",
        "  def get_pca(self, X, n):\n",
        "    model_pca = PCA(n_components=n)\n",
        "    output = model_pca.fit_transform(X)\n",
        "    return output.astype('float32')\n",
        "\n",
        "\n",
        "  def get_kmeans(self, X, k):\n",
        "    model_kmeans = KMeans(n_clusters=k, random_state=484)\n",
        "\n",
        "    start = time.time()\n",
        "    output = model_kmeans.fit_predict(X)\n",
        "    end = time.time()\n",
        "\n",
        "    print(\"K-Means Algorithm took {} seconds\".format(end-start))\n",
        "    return output\n",
        "\n",
        "  def get_gmm(self, data, k):\n",
        "      g = GaussianMixture(n_components=k, covariance_type=\"full\", random_state=728)\n",
        "      \n",
        "      start=time.time()\n",
        "      g.fit(data)\n",
        "      end=time.time()\n",
        "      \n",
        "      print(\"GMM Algorithm took {} seconds\".format(end-start))\n",
        "      \n",
        "      return g\n",
        "      \n",
        "  def decode(self, data_encoded, pca_components=50, k = len(classes)):\n",
        "    pca_fit = self.get_pca(data_encoded, n=pca_components)\n",
        "    kmeans_pred = self.get_kmeans(pca_fit, k)\n",
        "    # gmm_pred = self.get_gmm(pca_fit, k)\n",
        "    return kmeans_pred"
      ]
    },
    {
      "cell_type": "code",
      "execution_count": null,
      "metadata": {
        "id": "0vUOnHR-G_7o",
        "colab": {
          "base_uri": "https://localhost:8080/"
        },
        "outputId": "0429737e-c965-47ab-cc45-7ef0ab457d77"
      },
      "outputs": [
        {
          "output_type": "stream",
          "name": "stderr",
          "text": [
            "/usr/local/lib/python3.7/dist-packages/sklearn/decomposition/_pca.py:595: RuntimeWarning: invalid value encountered in true_divide\n",
            "  self.explained_variance_ratio_ = self.explained_variance_ / total_var.sum()\n",
            "/usr/local/lib/python3.7/dist-packages/sklearn/cluster/_kmeans.py:1258: ConvergenceWarning: Number of distinct clusters (1) found smaller than n_clusters (10). Possibly due to duplicate points in X.\n",
            "  return self.fit(X, sample_weight=sample_weight).labels_\n"
          ]
        },
        {
          "output_type": "stream",
          "name": "stdout",
          "text": [
            "K-Means Algorithm took 1.6901459693908691 seconds\n",
            "K-Means Algorithm took 5.901529788970947 seconds\n"
          ]
        },
        {
          "output_type": "stream",
          "name": "stderr",
          "text": [
            "/usr/local/lib/python3.7/dist-packages/sklearn/decomposition/_pca.py:595: RuntimeWarning: invalid value encountered in true_divide\n",
            "  self.explained_variance_ratio_ = self.explained_variance_ / total_var.sum()\n",
            "/usr/local/lib/python3.7/dist-packages/sklearn/cluster/_kmeans.py:1258: ConvergenceWarning: Number of distinct clusters (1) found smaller than n_clusters (10). Possibly due to duplicate points in X.\n",
            "  return self.fit(X, sample_weight=sample_weight).labels_\n"
          ]
        },
        {
          "output_type": "stream",
          "name": "stdout",
          "text": [
            "K-Means Algorithm took 0.5924022197723389 seconds\n",
            "K-Means Algorithm took 2.432239055633545 seconds\n",
            "K-Means Algorithm took 1.9480869770050049 seconds\n"
          ]
        }
      ],
      "source": [
        "decoder = Decoder()\n",
        "trainX_mpred = decoder.decode(trainX_encoded)\n",
        "trainX_pred = decoder.decode(trainX_flatten)\n",
        "trainX2_mpred = decoder.decode(trainX2_encoded)\n",
        "trainX2_pred = decoder.decode(trainX2_flatten)\n",
        "untrainedX2_pred = decoder.decode(untrainedX2_encoded)"
      ]
    },
    {
      "cell_type": "markdown",
      "metadata": {
        "id": "I6bA34Q4mgPM"
      },
      "source": [
        "### **(c). Count clusters and seperate them.**"
      ]
    },
    {
      "cell_type": "code",
      "execution_count": null,
      "metadata": {
        "id": "qu2JGd1mIuHi"
      },
      "outputs": [],
      "source": [
        "def cluster_label_count(clusters, labels):  \n",
        "    count = {}\n",
        "    \n",
        "    # Get unique clusters and labels\n",
        "    unique_clusters = list(set(clusters))\n",
        "    unique_labels = list(classes)\n",
        "\n",
        "    # Create counter for each cluster/label combination and set it to 0\n",
        "    for cluster in unique_clusters:\n",
        "        count[cluster] = {}\n",
        "        \n",
        "        for label in unique_labels:\n",
        "            count[cluster][label] = 0\n",
        "\n",
        "    # Let's count\n",
        "    for i in range(len(clusters)):\n",
        "      idx = labels[i].item()\n",
        "      count[clusters[i]][unique_labels[idx]] +=1\n",
        "    \n",
        "    cluster_df = pd.DataFrame(count)\n",
        "    \n",
        "    return cluster_df"
      ]
    },
    {
      "cell_type": "code",
      "execution_count": null,
      "metadata": {
        "id": "fGPgp7zWmy1F"
      },
      "outputs": [],
      "source": [
        "trainX_mcluster = cluster_label_count(trainX_mpred, train_y_orig)\n",
        "trainX_cluster = cluster_label_count(trainX_pred, train_y_orig)\n",
        "\n",
        "trainX2_mcluster = cluster_label_count(trainX2_mpred, train_uy_orig)\n",
        "trainX2_cluster = cluster_label_count(trainX2_pred, train_uy_orig)\n",
        "\n",
        "untrainX2_cluster = cluster_label_count(untrainedX2_pred, train_uy_orig)"
      ]
    },
    {
      "cell_type": "code",
      "execution_count": null,
      "metadata": {
        "id": "3XRgIcdbxxDH",
        "colab": {
          "base_uri": "https://localhost:8080/",
          "height": 376
        },
        "outputId": "4f5f24bc-c6a4-4428-b815-ad92a8e713df"
      },
      "outputs": [
        {
          "output_type": "stream",
          "name": "stdout",
          "text": [
            "Model + KMeans Cluster (full trainset):\n"
          ]
        },
        {
          "output_type": "execute_result",
          "data": {
            "text/html": [
              "\n",
              "  <div id=\"df-16a124fc-e4b3-4070-8168-2a0aa7c3448e\">\n",
              "    <div class=\"colab-df-container\">\n",
              "      <div>\n",
              "<style scoped>\n",
              "    .dataframe tbody tr th:only-of-type {\n",
              "        vertical-align: middle;\n",
              "    }\n",
              "\n",
              "    .dataframe tbody tr th {\n",
              "        vertical-align: top;\n",
              "    }\n",
              "\n",
              "    .dataframe thead th {\n",
              "        text-align: right;\n",
              "    }\n",
              "</style>\n",
              "<table border=\"1\" class=\"dataframe\">\n",
              "  <thead>\n",
              "    <tr style=\"text-align: right;\">\n",
              "      <th></th>\n",
              "      <th>0</th>\n",
              "    </tr>\n",
              "  </thead>\n",
              "  <tbody>\n",
              "    <tr>\n",
              "      <th>Ankle boot</th>\n",
              "      <td>6000</td>\n",
              "    </tr>\n",
              "    <tr>\n",
              "      <th>Bag</th>\n",
              "      <td>6000</td>\n",
              "    </tr>\n",
              "    <tr>\n",
              "      <th>Coat</th>\n",
              "      <td>6000</td>\n",
              "    </tr>\n",
              "    <tr>\n",
              "      <th>Dress</th>\n",
              "      <td>6000</td>\n",
              "    </tr>\n",
              "    <tr>\n",
              "      <th>Pullover</th>\n",
              "      <td>6000</td>\n",
              "    </tr>\n",
              "    <tr>\n",
              "      <th>Sandal</th>\n",
              "      <td>6000</td>\n",
              "    </tr>\n",
              "    <tr>\n",
              "      <th>Shirt</th>\n",
              "      <td>6000</td>\n",
              "    </tr>\n",
              "    <tr>\n",
              "      <th>Sneaker</th>\n",
              "      <td>6000</td>\n",
              "    </tr>\n",
              "    <tr>\n",
              "      <th>T-shirt/top</th>\n",
              "      <td>6000</td>\n",
              "    </tr>\n",
              "    <tr>\n",
              "      <th>Trouser</th>\n",
              "      <td>6000</td>\n",
              "    </tr>\n",
              "  </tbody>\n",
              "</table>\n",
              "</div>\n",
              "      <button class=\"colab-df-convert\" onclick=\"convertToInteractive('df-16a124fc-e4b3-4070-8168-2a0aa7c3448e')\"\n",
              "              title=\"Convert this dataframe to an interactive table.\"\n",
              "              style=\"display:none;\">\n",
              "        \n",
              "  <svg xmlns=\"http://www.w3.org/2000/svg\" height=\"24px\"viewBox=\"0 0 24 24\"\n",
              "       width=\"24px\">\n",
              "    <path d=\"M0 0h24v24H0V0z\" fill=\"none\"/>\n",
              "    <path d=\"M18.56 5.44l.94 2.06.94-2.06 2.06-.94-2.06-.94-.94-2.06-.94 2.06-2.06.94zm-11 1L8.5 8.5l.94-2.06 2.06-.94-2.06-.94L8.5 2.5l-.94 2.06-2.06.94zm10 10l.94 2.06.94-2.06 2.06-.94-2.06-.94-.94-2.06-.94 2.06-2.06.94z\"/><path d=\"M17.41 7.96l-1.37-1.37c-.4-.4-.92-.59-1.43-.59-.52 0-1.04.2-1.43.59L10.3 9.45l-7.72 7.72c-.78.78-.78 2.05 0 2.83L4 21.41c.39.39.9.59 1.41.59.51 0 1.02-.2 1.41-.59l7.78-7.78 2.81-2.81c.8-.78.8-2.07 0-2.86zM5.41 20L4 18.59l7.72-7.72 1.47 1.35L5.41 20z\"/>\n",
              "  </svg>\n",
              "      </button>\n",
              "      \n",
              "  <style>\n",
              "    .colab-df-container {\n",
              "      display:flex;\n",
              "      flex-wrap:wrap;\n",
              "      gap: 12px;\n",
              "    }\n",
              "\n",
              "    .colab-df-convert {\n",
              "      background-color: #E8F0FE;\n",
              "      border: none;\n",
              "      border-radius: 50%;\n",
              "      cursor: pointer;\n",
              "      display: none;\n",
              "      fill: #1967D2;\n",
              "      height: 32px;\n",
              "      padding: 0 0 0 0;\n",
              "      width: 32px;\n",
              "    }\n",
              "\n",
              "    .colab-df-convert:hover {\n",
              "      background-color: #E2EBFA;\n",
              "      box-shadow: 0px 1px 2px rgba(60, 64, 67, 0.3), 0px 1px 3px 1px rgba(60, 64, 67, 0.15);\n",
              "      fill: #174EA6;\n",
              "    }\n",
              "\n",
              "    [theme=dark] .colab-df-convert {\n",
              "      background-color: #3B4455;\n",
              "      fill: #D2E3FC;\n",
              "    }\n",
              "\n",
              "    [theme=dark] .colab-df-convert:hover {\n",
              "      background-color: #434B5C;\n",
              "      box-shadow: 0px 1px 3px 1px rgba(0, 0, 0, 0.15);\n",
              "      filter: drop-shadow(0px 1px 2px rgba(0, 0, 0, 0.3));\n",
              "      fill: #FFFFFF;\n",
              "    }\n",
              "  </style>\n",
              "\n",
              "      <script>\n",
              "        const buttonEl =\n",
              "          document.querySelector('#df-16a124fc-e4b3-4070-8168-2a0aa7c3448e button.colab-df-convert');\n",
              "        buttonEl.style.display =\n",
              "          google.colab.kernel.accessAllowed ? 'block' : 'none';\n",
              "\n",
              "        async function convertToInteractive(key) {\n",
              "          const element = document.querySelector('#df-16a124fc-e4b3-4070-8168-2a0aa7c3448e');\n",
              "          const dataTable =\n",
              "            await google.colab.kernel.invokeFunction('convertToInteractive',\n",
              "                                                     [key], {});\n",
              "          if (!dataTable) return;\n",
              "\n",
              "          const docLinkHtml = 'Like what you see? Visit the ' +\n",
              "            '<a target=\"_blank\" href=https://colab.research.google.com/notebooks/data_table.ipynb>data table notebook</a>'\n",
              "            + ' to learn more about interactive tables.';\n",
              "          element.innerHTML = '';\n",
              "          dataTable['output_type'] = 'display_data';\n",
              "          await google.colab.output.renderOutput(dataTable, element);\n",
              "          const docLink = document.createElement('div');\n",
              "          docLink.innerHTML = docLinkHtml;\n",
              "          element.appendChild(docLink);\n",
              "        }\n",
              "      </script>\n",
              "    </div>\n",
              "  </div>\n",
              "  "
            ],
            "text/plain": [
              "                0\n",
              "Ankle boot   6000\n",
              "Bag          6000\n",
              "Coat         6000\n",
              "Dress        6000\n",
              "Pullover     6000\n",
              "Sandal       6000\n",
              "Shirt        6000\n",
              "Sneaker      6000\n",
              "T-shirt/top  6000\n",
              "Trouser      6000"
            ]
          },
          "metadata": {},
          "execution_count": 24
        }
      ],
      "source": [
        "print(\"Model + KMeans Cluster (full trainset):\")\n",
        "trainX_mcluster"
      ]
    },
    {
      "cell_type": "code",
      "source": [
        "print(\"KMeans Cluster (full trainset):\")\n",
        "trainX_cluster"
      ],
      "metadata": {
        "colab": {
          "base_uri": "https://localhost:8080/",
          "height": 376
        },
        "id": "ZA96kNoSc4jP",
        "outputId": "bcae8bc9-f060-45f6-9d19-588236af97c1"
      },
      "execution_count": null,
      "outputs": [
        {
          "output_type": "stream",
          "name": "stdout",
          "text": [
            "KMeans Cluster (full trainset):\n"
          ]
        },
        {
          "output_type": "execute_result",
          "data": {
            "text/html": [
              "\n",
              "  <div id=\"df-3ef770ea-df9f-47fb-83a4-d39f5764166a\">\n",
              "    <div class=\"colab-df-container\">\n",
              "      <div>\n",
              "<style scoped>\n",
              "    .dataframe tbody tr th:only-of-type {\n",
              "        vertical-align: middle;\n",
              "    }\n",
              "\n",
              "    .dataframe tbody tr th {\n",
              "        vertical-align: top;\n",
              "    }\n",
              "\n",
              "    .dataframe thead th {\n",
              "        text-align: right;\n",
              "    }\n",
              "</style>\n",
              "<table border=\"1\" class=\"dataframe\">\n",
              "  <thead>\n",
              "    <tr style=\"text-align: right;\">\n",
              "      <th></th>\n",
              "      <th>0</th>\n",
              "      <th>1</th>\n",
              "      <th>2</th>\n",
              "      <th>3</th>\n",
              "      <th>4</th>\n",
              "      <th>5</th>\n",
              "      <th>6</th>\n",
              "      <th>7</th>\n",
              "      <th>8</th>\n",
              "      <th>9</th>\n",
              "    </tr>\n",
              "  </thead>\n",
              "  <tbody>\n",
              "    <tr>\n",
              "      <th>T-shirt/top</th>\n",
              "      <td>2</td>\n",
              "      <td>624</td>\n",
              "      <td>207</td>\n",
              "      <td>3401</td>\n",
              "      <td>0</td>\n",
              "      <td>1551</td>\n",
              "      <td>0</td>\n",
              "      <td>163</td>\n",
              "      <td>29</td>\n",
              "      <td>23</td>\n",
              "    </tr>\n",
              "    <tr>\n",
              "      <th>Trouser</th>\n",
              "      <td>0</td>\n",
              "      <td>158</td>\n",
              "      <td>5414</td>\n",
              "      <td>234</td>\n",
              "      <td>0</td>\n",
              "      <td>128</td>\n",
              "      <td>0</td>\n",
              "      <td>63</td>\n",
              "      <td>0</td>\n",
              "      <td>3</td>\n",
              "    </tr>\n",
              "    <tr>\n",
              "      <th>Pullover</th>\n",
              "      <td>1</td>\n",
              "      <td>536</td>\n",
              "      <td>9</td>\n",
              "      <td>114</td>\n",
              "      <td>0</td>\n",
              "      <td>1791</td>\n",
              "      <td>0</td>\n",
              "      <td>3496</td>\n",
              "      <td>26</td>\n",
              "      <td>27</td>\n",
              "    </tr>\n",
              "    <tr>\n",
              "      <th>Dress</th>\n",
              "      <td>0</td>\n",
              "      <td>545</td>\n",
              "      <td>3222</td>\n",
              "      <td>1677</td>\n",
              "      <td>0</td>\n",
              "      <td>495</td>\n",
              "      <td>0</td>\n",
              "      <td>49</td>\n",
              "      <td>7</td>\n",
              "      <td>5</td>\n",
              "    </tr>\n",
              "    <tr>\n",
              "      <th>Coat</th>\n",
              "      <td>0</td>\n",
              "      <td>259</td>\n",
              "      <td>160</td>\n",
              "      <td>868</td>\n",
              "      <td>0</td>\n",
              "      <td>1091</td>\n",
              "      <td>0</td>\n",
              "      <td>3577</td>\n",
              "      <td>29</td>\n",
              "      <td>16</td>\n",
              "    </tr>\n",
              "    <tr>\n",
              "      <th>Sandal</th>\n",
              "      <td>1481</td>\n",
              "      <td>3720</td>\n",
              "      <td>1</td>\n",
              "      <td>2</td>\n",
              "      <td>490</td>\n",
              "      <td>28</td>\n",
              "      <td>261</td>\n",
              "      <td>0</td>\n",
              "      <td>13</td>\n",
              "      <td>4</td>\n",
              "    </tr>\n",
              "    <tr>\n",
              "      <th>Shirt</th>\n",
              "      <td>7</td>\n",
              "      <td>800</td>\n",
              "      <td>64</td>\n",
              "      <td>1050</td>\n",
              "      <td>0</td>\n",
              "      <td>2063</td>\n",
              "      <td>1</td>\n",
              "      <td>1935</td>\n",
              "      <td>17</td>\n",
              "      <td>63</td>\n",
              "    </tr>\n",
              "    <tr>\n",
              "      <th>Sneaker</th>\n",
              "      <td>4685</td>\n",
              "      <td>492</td>\n",
              "      <td>0</td>\n",
              "      <td>0</td>\n",
              "      <td>796</td>\n",
              "      <td>0</td>\n",
              "      <td>26</td>\n",
              "      <td>0</td>\n",
              "      <td>0</td>\n",
              "      <td>1</td>\n",
              "    </tr>\n",
              "    <tr>\n",
              "      <th>Bag</th>\n",
              "      <td>240</td>\n",
              "      <td>512</td>\n",
              "      <td>28</td>\n",
              "      <td>22</td>\n",
              "      <td>68</td>\n",
              "      <td>188</td>\n",
              "      <td>6</td>\n",
              "      <td>264</td>\n",
              "      <td>2451</td>\n",
              "      <td>2221</td>\n",
              "    </tr>\n",
              "    <tr>\n",
              "      <th>Ankle boot</th>\n",
              "      <td>160</td>\n",
              "      <td>170</td>\n",
              "      <td>3</td>\n",
              "      <td>2</td>\n",
              "      <td>2934</td>\n",
              "      <td>37</td>\n",
              "      <td>2689</td>\n",
              "      <td>1</td>\n",
              "      <td>0</td>\n",
              "      <td>4</td>\n",
              "    </tr>\n",
              "  </tbody>\n",
              "</table>\n",
              "</div>\n",
              "      <button class=\"colab-df-convert\" onclick=\"convertToInteractive('df-3ef770ea-df9f-47fb-83a4-d39f5764166a')\"\n",
              "              title=\"Convert this dataframe to an interactive table.\"\n",
              "              style=\"display:none;\">\n",
              "        \n",
              "  <svg xmlns=\"http://www.w3.org/2000/svg\" height=\"24px\"viewBox=\"0 0 24 24\"\n",
              "       width=\"24px\">\n",
              "    <path d=\"M0 0h24v24H0V0z\" fill=\"none\"/>\n",
              "    <path d=\"M18.56 5.44l.94 2.06.94-2.06 2.06-.94-2.06-.94-.94-2.06-.94 2.06-2.06.94zm-11 1L8.5 8.5l.94-2.06 2.06-.94-2.06-.94L8.5 2.5l-.94 2.06-2.06.94zm10 10l.94 2.06.94-2.06 2.06-.94-2.06-.94-.94-2.06-.94 2.06-2.06.94z\"/><path d=\"M17.41 7.96l-1.37-1.37c-.4-.4-.92-.59-1.43-.59-.52 0-1.04.2-1.43.59L10.3 9.45l-7.72 7.72c-.78.78-.78 2.05 0 2.83L4 21.41c.39.39.9.59 1.41.59.51 0 1.02-.2 1.41-.59l7.78-7.78 2.81-2.81c.8-.78.8-2.07 0-2.86zM5.41 20L4 18.59l7.72-7.72 1.47 1.35L5.41 20z\"/>\n",
              "  </svg>\n",
              "      </button>\n",
              "      \n",
              "  <style>\n",
              "    .colab-df-container {\n",
              "      display:flex;\n",
              "      flex-wrap:wrap;\n",
              "      gap: 12px;\n",
              "    }\n",
              "\n",
              "    .colab-df-convert {\n",
              "      background-color: #E8F0FE;\n",
              "      border: none;\n",
              "      border-radius: 50%;\n",
              "      cursor: pointer;\n",
              "      display: none;\n",
              "      fill: #1967D2;\n",
              "      height: 32px;\n",
              "      padding: 0 0 0 0;\n",
              "      width: 32px;\n",
              "    }\n",
              "\n",
              "    .colab-df-convert:hover {\n",
              "      background-color: #E2EBFA;\n",
              "      box-shadow: 0px 1px 2px rgba(60, 64, 67, 0.3), 0px 1px 3px 1px rgba(60, 64, 67, 0.15);\n",
              "      fill: #174EA6;\n",
              "    }\n",
              "\n",
              "    [theme=dark] .colab-df-convert {\n",
              "      background-color: #3B4455;\n",
              "      fill: #D2E3FC;\n",
              "    }\n",
              "\n",
              "    [theme=dark] .colab-df-convert:hover {\n",
              "      background-color: #434B5C;\n",
              "      box-shadow: 0px 1px 3px 1px rgba(0, 0, 0, 0.15);\n",
              "      filter: drop-shadow(0px 1px 2px rgba(0, 0, 0, 0.3));\n",
              "      fill: #FFFFFF;\n",
              "    }\n",
              "  </style>\n",
              "\n",
              "      <script>\n",
              "        const buttonEl =\n",
              "          document.querySelector('#df-3ef770ea-df9f-47fb-83a4-d39f5764166a button.colab-df-convert');\n",
              "        buttonEl.style.display =\n",
              "          google.colab.kernel.accessAllowed ? 'block' : 'none';\n",
              "\n",
              "        async function convertToInteractive(key) {\n",
              "          const element = document.querySelector('#df-3ef770ea-df9f-47fb-83a4-d39f5764166a');\n",
              "          const dataTable =\n",
              "            await google.colab.kernel.invokeFunction('convertToInteractive',\n",
              "                                                     [key], {});\n",
              "          if (!dataTable) return;\n",
              "\n",
              "          const docLinkHtml = 'Like what you see? Visit the ' +\n",
              "            '<a target=\"_blank\" href=https://colab.research.google.com/notebooks/data_table.ipynb>data table notebook</a>'\n",
              "            + ' to learn more about interactive tables.';\n",
              "          element.innerHTML = '';\n",
              "          dataTable['output_type'] = 'display_data';\n",
              "          await google.colab.output.renderOutput(dataTable, element);\n",
              "          const docLink = document.createElement('div');\n",
              "          docLink.innerHTML = docLinkHtml;\n",
              "          element.appendChild(docLink);\n",
              "        }\n",
              "      </script>\n",
              "    </div>\n",
              "  </div>\n",
              "  "
            ],
            "text/plain": [
              "                0     1     2     3     4     5     6     7     8     9\n",
              "T-shirt/top     2   624   207  3401     0  1551     0   163    29    23\n",
              "Trouser         0   158  5414   234     0   128     0    63     0     3\n",
              "Pullover        1   536     9   114     0  1791     0  3496    26    27\n",
              "Dress           0   545  3222  1677     0   495     0    49     7     5\n",
              "Coat            0   259   160   868     0  1091     0  3577    29    16\n",
              "Sandal       1481  3720     1     2   490    28   261     0    13     4\n",
              "Shirt           7   800    64  1050     0  2063     1  1935    17    63\n",
              "Sneaker      4685   492     0     0   796     0    26     0     0     1\n",
              "Bag           240   512    28    22    68   188     6   264  2451  2221\n",
              "Ankle boot    160   170     3     2  2934    37  2689     1     0     4"
            ]
          },
          "metadata": {},
          "execution_count": 25
        }
      ]
    },
    {
      "cell_type": "code",
      "execution_count": null,
      "metadata": {
        "id": "UkBYdPshI8jY",
        "colab": {
          "base_uri": "https://localhost:8080/",
          "height": 376
        },
        "outputId": "c96f3521-01d0-4436-8758-4f7fffe0cef8"
      },
      "outputs": [
        {
          "output_type": "stream",
          "name": "stdout",
          "text": [
            "Model + KMeans Cluster (unseen trainset):\n"
          ]
        },
        {
          "output_type": "execute_result",
          "data": {
            "text/html": [
              "\n",
              "  <div id=\"df-b838d44b-7bfa-46c0-8793-c836c6a3928a\">\n",
              "    <div class=\"colab-df-container\">\n",
              "      <div>\n",
              "<style scoped>\n",
              "    .dataframe tbody tr th:only-of-type {\n",
              "        vertical-align: middle;\n",
              "    }\n",
              "\n",
              "    .dataframe tbody tr th {\n",
              "        vertical-align: top;\n",
              "    }\n",
              "\n",
              "    .dataframe thead th {\n",
              "        text-align: right;\n",
              "    }\n",
              "</style>\n",
              "<table border=\"1\" class=\"dataframe\">\n",
              "  <thead>\n",
              "    <tr style=\"text-align: right;\">\n",
              "      <th></th>\n",
              "      <th>0</th>\n",
              "    </tr>\n",
              "  </thead>\n",
              "  <tbody>\n",
              "    <tr>\n",
              "      <th>Ankle boot</th>\n",
              "      <td>6000</td>\n",
              "    </tr>\n",
              "    <tr>\n",
              "      <th>Bag</th>\n",
              "      <td>6000</td>\n",
              "    </tr>\n",
              "    <tr>\n",
              "      <th>Coat</th>\n",
              "      <td>0</td>\n",
              "    </tr>\n",
              "    <tr>\n",
              "      <th>Dress</th>\n",
              "      <td>0</td>\n",
              "    </tr>\n",
              "    <tr>\n",
              "      <th>Pullover</th>\n",
              "      <td>0</td>\n",
              "    </tr>\n",
              "    <tr>\n",
              "      <th>Sandal</th>\n",
              "      <td>0</td>\n",
              "    </tr>\n",
              "    <tr>\n",
              "      <th>Shirt</th>\n",
              "      <td>6000</td>\n",
              "    </tr>\n",
              "    <tr>\n",
              "      <th>Sneaker</th>\n",
              "      <td>0</td>\n",
              "    </tr>\n",
              "    <tr>\n",
              "      <th>T-shirt/top</th>\n",
              "      <td>0</td>\n",
              "    </tr>\n",
              "    <tr>\n",
              "      <th>Trouser</th>\n",
              "      <td>0</td>\n",
              "    </tr>\n",
              "  </tbody>\n",
              "</table>\n",
              "</div>\n",
              "      <button class=\"colab-df-convert\" onclick=\"convertToInteractive('df-b838d44b-7bfa-46c0-8793-c836c6a3928a')\"\n",
              "              title=\"Convert this dataframe to an interactive table.\"\n",
              "              style=\"display:none;\">\n",
              "        \n",
              "  <svg xmlns=\"http://www.w3.org/2000/svg\" height=\"24px\"viewBox=\"0 0 24 24\"\n",
              "       width=\"24px\">\n",
              "    <path d=\"M0 0h24v24H0V0z\" fill=\"none\"/>\n",
              "    <path d=\"M18.56 5.44l.94 2.06.94-2.06 2.06-.94-2.06-.94-.94-2.06-.94 2.06-2.06.94zm-11 1L8.5 8.5l.94-2.06 2.06-.94-2.06-.94L8.5 2.5l-.94 2.06-2.06.94zm10 10l.94 2.06.94-2.06 2.06-.94-2.06-.94-.94-2.06-.94 2.06-2.06.94z\"/><path d=\"M17.41 7.96l-1.37-1.37c-.4-.4-.92-.59-1.43-.59-.52 0-1.04.2-1.43.59L10.3 9.45l-7.72 7.72c-.78.78-.78 2.05 0 2.83L4 21.41c.39.39.9.59 1.41.59.51 0 1.02-.2 1.41-.59l7.78-7.78 2.81-2.81c.8-.78.8-2.07 0-2.86zM5.41 20L4 18.59l7.72-7.72 1.47 1.35L5.41 20z\"/>\n",
              "  </svg>\n",
              "      </button>\n",
              "      \n",
              "  <style>\n",
              "    .colab-df-container {\n",
              "      display:flex;\n",
              "      flex-wrap:wrap;\n",
              "      gap: 12px;\n",
              "    }\n",
              "\n",
              "    .colab-df-convert {\n",
              "      background-color: #E8F0FE;\n",
              "      border: none;\n",
              "      border-radius: 50%;\n",
              "      cursor: pointer;\n",
              "      display: none;\n",
              "      fill: #1967D2;\n",
              "      height: 32px;\n",
              "      padding: 0 0 0 0;\n",
              "      width: 32px;\n",
              "    }\n",
              "\n",
              "    .colab-df-convert:hover {\n",
              "      background-color: #E2EBFA;\n",
              "      box-shadow: 0px 1px 2px rgba(60, 64, 67, 0.3), 0px 1px 3px 1px rgba(60, 64, 67, 0.15);\n",
              "      fill: #174EA6;\n",
              "    }\n",
              "\n",
              "    [theme=dark] .colab-df-convert {\n",
              "      background-color: #3B4455;\n",
              "      fill: #D2E3FC;\n",
              "    }\n",
              "\n",
              "    [theme=dark] .colab-df-convert:hover {\n",
              "      background-color: #434B5C;\n",
              "      box-shadow: 0px 1px 3px 1px rgba(0, 0, 0, 0.15);\n",
              "      filter: drop-shadow(0px 1px 2px rgba(0, 0, 0, 0.3));\n",
              "      fill: #FFFFFF;\n",
              "    }\n",
              "  </style>\n",
              "\n",
              "      <script>\n",
              "        const buttonEl =\n",
              "          document.querySelector('#df-b838d44b-7bfa-46c0-8793-c836c6a3928a button.colab-df-convert');\n",
              "        buttonEl.style.display =\n",
              "          google.colab.kernel.accessAllowed ? 'block' : 'none';\n",
              "\n",
              "        async function convertToInteractive(key) {\n",
              "          const element = document.querySelector('#df-b838d44b-7bfa-46c0-8793-c836c6a3928a');\n",
              "          const dataTable =\n",
              "            await google.colab.kernel.invokeFunction('convertToInteractive',\n",
              "                                                     [key], {});\n",
              "          if (!dataTable) return;\n",
              "\n",
              "          const docLinkHtml = 'Like what you see? Visit the ' +\n",
              "            '<a target=\"_blank\" href=https://colab.research.google.com/notebooks/data_table.ipynb>data table notebook</a>'\n",
              "            + ' to learn more about interactive tables.';\n",
              "          element.innerHTML = '';\n",
              "          dataTable['output_type'] = 'display_data';\n",
              "          await google.colab.output.renderOutput(dataTable, element);\n",
              "          const docLink = document.createElement('div');\n",
              "          docLink.innerHTML = docLinkHtml;\n",
              "          element.appendChild(docLink);\n",
              "        }\n",
              "      </script>\n",
              "    </div>\n",
              "  </div>\n",
              "  "
            ],
            "text/plain": [
              "                0\n",
              "Ankle boot   6000\n",
              "Bag          6000\n",
              "Coat            0\n",
              "Dress           0\n",
              "Pullover        0\n",
              "Sandal          0\n",
              "Shirt        6000\n",
              "Sneaker         0\n",
              "T-shirt/top     0\n",
              "Trouser         0"
            ]
          },
          "metadata": {},
          "execution_count": 26
        }
      ],
      "source": [
        "print(\"Model + KMeans Cluster (unseen trainset):\")\n",
        "trainX2_mcluster"
      ]
    },
    {
      "cell_type": "code",
      "execution_count": null,
      "metadata": {
        "id": "kck0QAFh6LjD",
        "colab": {
          "base_uri": "https://localhost:8080/",
          "height": 376
        },
        "outputId": "8f59866d-085c-4b83-bcde-84892f74200e"
      },
      "outputs": [
        {
          "output_type": "stream",
          "name": "stdout",
          "text": [
            "KMeans Cluster (unseen trainset):\n"
          ]
        },
        {
          "output_type": "execute_result",
          "data": {
            "text/html": [
              "\n",
              "  <div id=\"df-376d2595-cdd2-4c76-bb8c-967749e2e0ca\">\n",
              "    <div class=\"colab-df-container\">\n",
              "      <div>\n",
              "<style scoped>\n",
              "    .dataframe tbody tr th:only-of-type {\n",
              "        vertical-align: middle;\n",
              "    }\n",
              "\n",
              "    .dataframe tbody tr th {\n",
              "        vertical-align: top;\n",
              "    }\n",
              "\n",
              "    .dataframe thead th {\n",
              "        text-align: right;\n",
              "    }\n",
              "</style>\n",
              "<table border=\"1\" class=\"dataframe\">\n",
              "  <thead>\n",
              "    <tr style=\"text-align: right;\">\n",
              "      <th></th>\n",
              "      <th>0</th>\n",
              "      <th>1</th>\n",
              "      <th>2</th>\n",
              "      <th>3</th>\n",
              "      <th>4</th>\n",
              "      <th>5</th>\n",
              "      <th>6</th>\n",
              "      <th>7</th>\n",
              "      <th>8</th>\n",
              "      <th>9</th>\n",
              "    </tr>\n",
              "  </thead>\n",
              "  <tbody>\n",
              "    <tr>\n",
              "      <th>T-shirt/top</th>\n",
              "      <td>0</td>\n",
              "      <td>0</td>\n",
              "      <td>0</td>\n",
              "      <td>0</td>\n",
              "      <td>0</td>\n",
              "      <td>0</td>\n",
              "      <td>0</td>\n",
              "      <td>0</td>\n",
              "      <td>0</td>\n",
              "      <td>0</td>\n",
              "    </tr>\n",
              "    <tr>\n",
              "      <th>Trouser</th>\n",
              "      <td>0</td>\n",
              "      <td>0</td>\n",
              "      <td>0</td>\n",
              "      <td>0</td>\n",
              "      <td>0</td>\n",
              "      <td>0</td>\n",
              "      <td>0</td>\n",
              "      <td>0</td>\n",
              "      <td>0</td>\n",
              "      <td>0</td>\n",
              "    </tr>\n",
              "    <tr>\n",
              "      <th>Pullover</th>\n",
              "      <td>0</td>\n",
              "      <td>0</td>\n",
              "      <td>0</td>\n",
              "      <td>0</td>\n",
              "      <td>0</td>\n",
              "      <td>0</td>\n",
              "      <td>0</td>\n",
              "      <td>0</td>\n",
              "      <td>0</td>\n",
              "      <td>0</td>\n",
              "    </tr>\n",
              "    <tr>\n",
              "      <th>Dress</th>\n",
              "      <td>0</td>\n",
              "      <td>0</td>\n",
              "      <td>0</td>\n",
              "      <td>0</td>\n",
              "      <td>0</td>\n",
              "      <td>0</td>\n",
              "      <td>0</td>\n",
              "      <td>0</td>\n",
              "      <td>0</td>\n",
              "      <td>0</td>\n",
              "    </tr>\n",
              "    <tr>\n",
              "      <th>Coat</th>\n",
              "      <td>0</td>\n",
              "      <td>0</td>\n",
              "      <td>0</td>\n",
              "      <td>0</td>\n",
              "      <td>0</td>\n",
              "      <td>0</td>\n",
              "      <td>0</td>\n",
              "      <td>0</td>\n",
              "      <td>0</td>\n",
              "      <td>0</td>\n",
              "    </tr>\n",
              "    <tr>\n",
              "      <th>Sandal</th>\n",
              "      <td>0</td>\n",
              "      <td>0</td>\n",
              "      <td>0</td>\n",
              "      <td>0</td>\n",
              "      <td>0</td>\n",
              "      <td>0</td>\n",
              "      <td>0</td>\n",
              "      <td>0</td>\n",
              "      <td>0</td>\n",
              "      <td>0</td>\n",
              "    </tr>\n",
              "    <tr>\n",
              "      <th>Shirt</th>\n",
              "      <td>1</td>\n",
              "      <td>6</td>\n",
              "      <td>1489</td>\n",
              "      <td>0</td>\n",
              "      <td>1210</td>\n",
              "      <td>12</td>\n",
              "      <td>1</td>\n",
              "      <td>1528</td>\n",
              "      <td>38</td>\n",
              "      <td>1715</td>\n",
              "    </tr>\n",
              "    <tr>\n",
              "      <th>Sneaker</th>\n",
              "      <td>0</td>\n",
              "      <td>0</td>\n",
              "      <td>0</td>\n",
              "      <td>0</td>\n",
              "      <td>0</td>\n",
              "      <td>0</td>\n",
              "      <td>0</td>\n",
              "      <td>0</td>\n",
              "      <td>0</td>\n",
              "      <td>0</td>\n",
              "    </tr>\n",
              "    <tr>\n",
              "      <th>Bag</th>\n",
              "      <td>143</td>\n",
              "      <td>1341</td>\n",
              "      <td>88</td>\n",
              "      <td>4</td>\n",
              "      <td>27</td>\n",
              "      <td>1367</td>\n",
              "      <td>2</td>\n",
              "      <td>303</td>\n",
              "      <td>2024</td>\n",
              "      <td>701</td>\n",
              "    </tr>\n",
              "    <tr>\n",
              "      <th>Ankle boot</th>\n",
              "      <td>1953</td>\n",
              "      <td>0</td>\n",
              "      <td>6</td>\n",
              "      <td>2233</td>\n",
              "      <td>3</td>\n",
              "      <td>0</td>\n",
              "      <td>1622</td>\n",
              "      <td>2</td>\n",
              "      <td>3</td>\n",
              "      <td>178</td>\n",
              "    </tr>\n",
              "  </tbody>\n",
              "</table>\n",
              "</div>\n",
              "      <button class=\"colab-df-convert\" onclick=\"convertToInteractive('df-376d2595-cdd2-4c76-bb8c-967749e2e0ca')\"\n",
              "              title=\"Convert this dataframe to an interactive table.\"\n",
              "              style=\"display:none;\">\n",
              "        \n",
              "  <svg xmlns=\"http://www.w3.org/2000/svg\" height=\"24px\"viewBox=\"0 0 24 24\"\n",
              "       width=\"24px\">\n",
              "    <path d=\"M0 0h24v24H0V0z\" fill=\"none\"/>\n",
              "    <path d=\"M18.56 5.44l.94 2.06.94-2.06 2.06-.94-2.06-.94-.94-2.06-.94 2.06-2.06.94zm-11 1L8.5 8.5l.94-2.06 2.06-.94-2.06-.94L8.5 2.5l-.94 2.06-2.06.94zm10 10l.94 2.06.94-2.06 2.06-.94-2.06-.94-.94-2.06-.94 2.06-2.06.94z\"/><path d=\"M17.41 7.96l-1.37-1.37c-.4-.4-.92-.59-1.43-.59-.52 0-1.04.2-1.43.59L10.3 9.45l-7.72 7.72c-.78.78-.78 2.05 0 2.83L4 21.41c.39.39.9.59 1.41.59.51 0 1.02-.2 1.41-.59l7.78-7.78 2.81-2.81c.8-.78.8-2.07 0-2.86zM5.41 20L4 18.59l7.72-7.72 1.47 1.35L5.41 20z\"/>\n",
              "  </svg>\n",
              "      </button>\n",
              "      \n",
              "  <style>\n",
              "    .colab-df-container {\n",
              "      display:flex;\n",
              "      flex-wrap:wrap;\n",
              "      gap: 12px;\n",
              "    }\n",
              "\n",
              "    .colab-df-convert {\n",
              "      background-color: #E8F0FE;\n",
              "      border: none;\n",
              "      border-radius: 50%;\n",
              "      cursor: pointer;\n",
              "      display: none;\n",
              "      fill: #1967D2;\n",
              "      height: 32px;\n",
              "      padding: 0 0 0 0;\n",
              "      width: 32px;\n",
              "    }\n",
              "\n",
              "    .colab-df-convert:hover {\n",
              "      background-color: #E2EBFA;\n",
              "      box-shadow: 0px 1px 2px rgba(60, 64, 67, 0.3), 0px 1px 3px 1px rgba(60, 64, 67, 0.15);\n",
              "      fill: #174EA6;\n",
              "    }\n",
              "\n",
              "    [theme=dark] .colab-df-convert {\n",
              "      background-color: #3B4455;\n",
              "      fill: #D2E3FC;\n",
              "    }\n",
              "\n",
              "    [theme=dark] .colab-df-convert:hover {\n",
              "      background-color: #434B5C;\n",
              "      box-shadow: 0px 1px 3px 1px rgba(0, 0, 0, 0.15);\n",
              "      filter: drop-shadow(0px 1px 2px rgba(0, 0, 0, 0.3));\n",
              "      fill: #FFFFFF;\n",
              "    }\n",
              "  </style>\n",
              "\n",
              "      <script>\n",
              "        const buttonEl =\n",
              "          document.querySelector('#df-376d2595-cdd2-4c76-bb8c-967749e2e0ca button.colab-df-convert');\n",
              "        buttonEl.style.display =\n",
              "          google.colab.kernel.accessAllowed ? 'block' : 'none';\n",
              "\n",
              "        async function convertToInteractive(key) {\n",
              "          const element = document.querySelector('#df-376d2595-cdd2-4c76-bb8c-967749e2e0ca');\n",
              "          const dataTable =\n",
              "            await google.colab.kernel.invokeFunction('convertToInteractive',\n",
              "                                                     [key], {});\n",
              "          if (!dataTable) return;\n",
              "\n",
              "          const docLinkHtml = 'Like what you see? Visit the ' +\n",
              "            '<a target=\"_blank\" href=https://colab.research.google.com/notebooks/data_table.ipynb>data table notebook</a>'\n",
              "            + ' to learn more about interactive tables.';\n",
              "          element.innerHTML = '';\n",
              "          dataTable['output_type'] = 'display_data';\n",
              "          await google.colab.output.renderOutput(dataTable, element);\n",
              "          const docLink = document.createElement('div');\n",
              "          docLink.innerHTML = docLinkHtml;\n",
              "          element.appendChild(docLink);\n",
              "        }\n",
              "      </script>\n",
              "    </div>\n",
              "  </div>\n",
              "  "
            ],
            "text/plain": [
              "                0     1     2     3     4     5     6     7     8     9\n",
              "T-shirt/top     0     0     0     0     0     0     0     0     0     0\n",
              "Trouser         0     0     0     0     0     0     0     0     0     0\n",
              "Pullover        0     0     0     0     0     0     0     0     0     0\n",
              "Dress           0     0     0     0     0     0     0     0     0     0\n",
              "Coat            0     0     0     0     0     0     0     0     0     0\n",
              "Sandal          0     0     0     0     0     0     0     0     0     0\n",
              "Shirt           1     6  1489     0  1210    12     1  1528    38  1715\n",
              "Sneaker         0     0     0     0     0     0     0     0     0     0\n",
              "Bag           143  1341    88     4    27  1367     2   303  2024   701\n",
              "Ankle boot   1953     0     6  2233     3     0  1622     2     3   178"
            ]
          },
          "metadata": {},
          "execution_count": 27
        }
      ],
      "source": [
        "print(\"KMeans Cluster (unseen trainset):\")\n",
        "trainX2_cluster"
      ]
    },
    {
      "cell_type": "markdown",
      "metadata": {
        "id": "uovbQlsyOaE4"
      },
      "source": [
        "## **Part 6: Validation of Unsupervised training**\n",
        "In this part, we will do qualitative and quantitative evaluation of predictions."
      ]
    },
    {
      "cell_type": "code",
      "execution_count": null,
      "metadata": {
        "id": "bVjJXpt1Oi-z"
      },
      "outputs": [],
      "source": [
        "# # the seen and unseen class clustering score\n",
        "# trainX_m_score = homogeneity_score(trainX_mpred, train_y_orig)\n",
        "# print(\"2-step (Model+Kmeans) training accuracy on all classes: \", trainX_m_score)\n",
        "# trainX_score = homogeneity_score(trainX_pred, train_y_orig)\n",
        "# print(\"K means accuracy on all classes: \",  trainX_score)\n",
        "\n",
        "# print(\"\")\n",
        "\n",
        "# # the unseen class clustering score\n",
        "# trainX2_m_score = homogeneity_score(trainX2_mpred, train_uy_orig)\n",
        "# print(\"2-step (Model+Kmeans) training accuracy on unseen classes: \" + str(trainX2_m_score))\n",
        "# trainX2_score = homogeneity_score(trainX2_pred, train_uy_orig)\n",
        "# print(\"K means accuracy on unseen classes: \" + str(trainX2_score))\n",
        "# untrainedX2_score = homogeneity_score(untrainedX2_pred, train_uy_orig)\n",
        "# print(\"Untrained accuracy on unseen classes: \" + str(untrainedX2_score))"
      ]
    },
    {
      "cell_type": "markdown",
      "metadata": {
        "id": "_UVJM1ys1xh5"
      },
      "source": [
        "### **(a). Evaluation method for k-means clustering result** <br>\n",
        "\n",
        " The following methods that we use are all external critertion that evaluates the performance of clustering compare to the ground truth labels.\n",
        "\n",
        "\n",
        "1.   Manually assign label to cluster\n",
        "2.   Purity\n",
        "3.   Rand Index / Ajusted Rand Index\n"
      ]
    },
    {
      "cell_type": "markdown",
      "source": [
        "**Manually assign label to cluster**\n",
        "\n",
        "> This algorithm works same as how human assign label to cluster. In the first step, it will choose the index $(i,j)$ where element in $(i,j)$ is the max value within $i$th row or $j$th column.\n",
        "\n",
        "> As each cluster should only be assigned one label, second step deals with the confusing label and cluster pairs. It will traverse all possible combination of the remaining label and cluster pairs. Ans choose the combination that will give max accuracy level."
      ],
      "metadata": {
        "id": "ARt7oSqvoiQO"
      }
    },
    {
      "cell_type": "markdown",
      "metadata": {
        "id": "1bCtUCCagj5W"
      },
      "source": [
        "**Purity**\n",
        "\n",
        "  Purity measures the number of percentage of the labels that are clustered correctly. \n",
        "\n",
        "$$Purity = \\frac{1}{N} \\sum_{i=1}^{k} max_j|c_i \\cap t_j|$$\n",
        "\n",
        "  \n",
        "\n",
        "> where $N$ stands for the total number of objects(data) in the dataset, $k$ is the number of clusters and $c_i$ one cluster in $C$ and $t_j$ is the class label. The equation $max_j|c_i \\cap t_j|$ represent the class $j$ which has the max count in cluster $c_i$.\n",
        "\n",
        "\n",
        "\n",
        "\n",
        "\n",
        "\n",
        "\n",
        "\n"
      ]
    },
    {
      "cell_type": "markdown",
      "metadata": {
        "id": "4Xa_K4GryXHQ"
      },
      "source": [
        "**Ajusted Rand Index**\n",
        "\n",
        "  Rand Index measures the similarity between two clusterings. It also computes the percentage of correct pairs using the following equation.\n",
        "\n",
        "$$RI = \\frac{\\text{number of agreeing pairs}}{\\text{number of pairs}}$$\n",
        "\n",
        "\n",
        "\n",
        "> In our evaluation, we will be using the rand index ajusted for chance. Ajusted Rand Index is often used when the ground truth clustering are about the same size which matches our dataset.\n",
        "\n"
      ]
    },
    {
      "cell_type": "code",
      "execution_count": null,
      "metadata": {
        "id": "IQykzgC81rW4"
      },
      "outputs": [],
      "source": [
        "class evaluation:\n",
        "\n",
        "  def __init__(self, result_matrix):\n",
        "    self.result_matrix = result_matrix\n",
        "    self.num_object = np.sum(result_matrix)\n",
        "    self.class_label = np.argmax(result_matrix, axis = 1) # get the the label \n",
        "    self.num_correct_label = np.max(result_matrix, axis = 1) # get number of corrected labeling\n",
        "\n",
        "  def manual_assign_label_cluster(self):\n",
        "    row_index = self.result_matrix.argmax(axis=1)\n",
        "    col_index = self.result_matrix.argmax(axis=0)\n",
        "    accu_pred = 0\n",
        "\n",
        "    index_pair = {}\n",
        "    class_arr = np.array(list(range(0, len(row_index))))\n",
        "\n",
        "    # Step 1\n",
        "    for i in range(len(row_index)):\n",
        "      if(col_index[row_index[i]] == i):\n",
        "          index_pair[i] = row_index[i]\n",
        "          accu_pred += self.result_matrix[i][row_index[i]]\n",
        "\n",
        "    non_match_class = list(set(class_arr) - set(index_pair.keys()))\n",
        "    non_match_cluster = list(set(class_arr) - set(index_pair.values()))\n",
        "\n",
        "    sum_accu = 0\n",
        "    remaining_pair = []\n",
        "\n",
        "    # Step 2\n",
        "    if(len(index_pair)<len(row_index)):\n",
        "      # pair_arr sample: [[(5, 0), (6, 3)], [(6, 0), (5, 3)]]\n",
        "      pair_arr = [list(zip(x,non_match_cluster)) for x in itertools.permutations(non_match_class,len(non_match_cluster))]\n",
        "      for pair in pair_arr:\n",
        "        accu = 0\n",
        "        for index_tuple in pair:\n",
        "          accu += self.result_matrix[index_tuple[0]][index_tuple[1]]\n",
        "        if accu >= sum_accu:\n",
        "          sum_accu = accu\n",
        "          remaining_pair = pair\n",
        "\n",
        "    accu_pred += sum_accu\n",
        "    for t in remaining_pair:\n",
        "      index_pair[t[0]] = t[1]\n",
        "\n",
        "    return accu_pred/np.sum(self.result_matrix), index_pair\n",
        "\n",
        "\n",
        "  def eval_purity(self):\n",
        "    total_correct_label = np.sum(self.num_correct_label)\n",
        "    num_object = self.num_object\n",
        "    return total_correct_label / self.num_object\n",
        "  \n",
        "\n",
        "  def eval_ajusted_rand_index(self, gt, predict):\n",
        "    return adjusted_rand_score(gt, predict)\n",
        "\n"
      ]
    },
    {
      "cell_type": "code",
      "source": [
        "eval = evaluation(trainX_cluster.to_numpy())\n",
        "accu_kmean, pair_list_kmean = eval.manual_assign_label_cluster()\n",
        "label_cluster_kpair = {}\n",
        "for key in pair_list_kmean:\n",
        "  label_cluster_kpair[classes[key]] = pair_list_kmean[key]\n",
        "\n",
        "print(\"Only using Kmean (without model) result is:\")\n",
        "print(trainX_cluster)\n",
        "print(\"\\nThe assigned label and cluster pair is:\")\n",
        "print(label_cluster_kpair)\n",
        "print(\"\\nAccuracy Checking by assigning labels to clusters is: \", accu_kmean)"
      ],
      "metadata": {
        "colab": {
          "base_uri": "https://localhost:8080/"
        },
        "id": "_bI2WMf0mgYu",
        "outputId": "b7aaf100-3183-4344-83d1-b7826a04ddfb"
      },
      "execution_count": null,
      "outputs": [
        {
          "output_type": "stream",
          "name": "stdout",
          "text": [
            "Only using Kmean (without model) result is:\n",
            "                0     1     2     3     4     5     6     7     8     9\n",
            "T-shirt/top     2   624   207  3401     0  1551     0   163    29    23\n",
            "Trouser         0   158  5414   234     0   128     0    63     0     3\n",
            "Pullover        1   536     9   114     0  1791     0  3496    26    27\n",
            "Dress           0   545  3222  1677     0   495     0    49     7     5\n",
            "Coat            0   259   160   868     0  1091     0  3577    29    16\n",
            "Sandal       1481  3720     1     2   490    28   261     0    13     4\n",
            "Shirt           7   800    64  1050     0  2063     1  1935    17    63\n",
            "Sneaker      4685   492     0     0   796     0    26     0     0     1\n",
            "Bag           240   512    28    22    68   188     6   264  2451  2221\n",
            "Ankle boot    160   170     3     2  2934    37  2689     1     0     4\n",
            "\n",
            "The assigned label and cluster pair is:\n",
            "{'T-shirt/top': 3, 'Trouser': 2, 'Coat': 7, 'Sandal': 1, 'Shirt': 5, 'Sneaker': 0, 'Bag': 8, 'Ankle boot': 4, 'Pullover': 9, 'Dress': 6}\n",
            "\n",
            "Accuracy Checking by assigning labels to clusters is:  0.4712\n"
          ]
        }
      ]
    },
    {
      "cell_type": "code",
      "execution_count": null,
      "metadata": {
        "id": "htZVE4IOQit9",
        "colab": {
          "base_uri": "https://localhost:8080/"
        },
        "outputId": "b46ebe95-871a-4e16-a86e-fd650c3319c2"
      },
      "outputs": [
        {
          "output_type": "stream",
          "name": "stdout",
          "text": [
            "Only using Kmean (without model) result is:\n",
            "Purity is  0.5827166666666667\n",
            "Ajusted rand index is 0.34689076627447957\n"
          ]
        }
      ],
      "source": [
        "trainX_matrix = trainX_cluster.to_numpy()\n",
        "eval_k = evaluation(trainX_matrix)\n",
        "print(\"Only using Kmean (without model) result is:\")\n",
        "\n",
        "# evaluate purity\n",
        "purity = eval_k.eval_purity()\n",
        "print(\"Purity is  \" + str(purity))\n",
        "\n",
        "# evaluate rand index (Ajusted)\n",
        "ajusted_rand_index = eval_k.eval_ajusted_rand_index(trainX_pred, train_y_orig)\n",
        "print(\"Ajusted rand index is \" + str(ajusted_rand_index))"
      ]
    },
    {
      "cell_type": "code",
      "source": [
        "eval_ck = evaluation(trainX_mcluster.to_numpy())\n",
        "accu, pair_list = eval_ck.manual_assign_label_cluster()\n",
        "\n",
        "label_cluster_pair = {}\n",
        "for key in pair_list:\n",
        "  label_cluster_pair[classes[key]] = pair_list[key]\n",
        "\n",
        "print(\"Model + Kmean clustering result is:\")\n",
        "print(trainX_mcluster)\n",
        "print(\"\\nThe assigned label and cluster pair is:\")\n",
        "print(label_cluster_pair)\n",
        "print(\"\\nAccuracy Checking by assigning labels to clusters is: \", accu)"
      ],
      "metadata": {
        "colab": {
          "base_uri": "https://localhost:8080/",
          "height": 355
        },
        "id": "BJvjzU3SnC7b",
        "outputId": "cccc34e8-ff55-45ec-d56a-136ff1a635b3"
      },
      "execution_count": null,
      "outputs": [
        {
          "output_type": "error",
          "ename": "IndexError",
          "evalue": "ignored",
          "traceback": [
            "\u001b[0;31m---------------------------------------------------------------------------\u001b[0m",
            "\u001b[0;31mIndexError\u001b[0m                                Traceback (most recent call last)",
            "\u001b[0;32m<ipython-input-32-b72190bc88b4>\u001b[0m in \u001b[0;36m<module>\u001b[0;34m()\u001b[0m\n\u001b[1;32m      1\u001b[0m \u001b[0meval_ck\u001b[0m \u001b[0;34m=\u001b[0m \u001b[0mevaluation\u001b[0m\u001b[0;34m(\u001b[0m\u001b[0mtrainX_mcluster\u001b[0m\u001b[0;34m.\u001b[0m\u001b[0mto_numpy\u001b[0m\u001b[0;34m(\u001b[0m\u001b[0;34m)\u001b[0m\u001b[0;34m)\u001b[0m\u001b[0;34m\u001b[0m\u001b[0;34m\u001b[0m\u001b[0m\n\u001b[0;32m----> 2\u001b[0;31m \u001b[0maccu\u001b[0m\u001b[0;34m,\u001b[0m \u001b[0mpair_list\u001b[0m \u001b[0;34m=\u001b[0m \u001b[0meval_ck\u001b[0m\u001b[0;34m.\u001b[0m\u001b[0mmanual_assign_label_cluster\u001b[0m\u001b[0;34m(\u001b[0m\u001b[0;34m)\u001b[0m\u001b[0;34m\u001b[0m\u001b[0;34m\u001b[0m\u001b[0m\n\u001b[0m\u001b[1;32m      3\u001b[0m \u001b[0;34m\u001b[0m\u001b[0m\n\u001b[1;32m      4\u001b[0m \u001b[0mlabel_cluster_pair\u001b[0m \u001b[0;34m=\u001b[0m \u001b[0;34m{\u001b[0m\u001b[0;34m}\u001b[0m\u001b[0;34m\u001b[0m\u001b[0;34m\u001b[0m\u001b[0m\n\u001b[1;32m      5\u001b[0m \u001b[0;32mfor\u001b[0m \u001b[0mkey\u001b[0m \u001b[0;32min\u001b[0m \u001b[0mpair_list\u001b[0m\u001b[0;34m:\u001b[0m\u001b[0;34m\u001b[0m\u001b[0;34m\u001b[0m\u001b[0m\n",
            "\u001b[0;32m<ipython-input-29-e10b7cc79a23>\u001b[0m in \u001b[0;36mmanual_assign_label_cluster\u001b[0;34m(self)\u001b[0m\n\u001b[1;32m     34\u001b[0m         \u001b[0maccu\u001b[0m \u001b[0;34m=\u001b[0m \u001b[0;36m0\u001b[0m\u001b[0;34m\u001b[0m\u001b[0;34m\u001b[0m\u001b[0m\n\u001b[1;32m     35\u001b[0m         \u001b[0;32mfor\u001b[0m \u001b[0mindex_tuple\u001b[0m \u001b[0;32min\u001b[0m \u001b[0mpair\u001b[0m\u001b[0;34m:\u001b[0m\u001b[0;34m\u001b[0m\u001b[0;34m\u001b[0m\u001b[0m\n\u001b[0;32m---> 36\u001b[0;31m           \u001b[0maccu\u001b[0m \u001b[0;34m+=\u001b[0m \u001b[0mself\u001b[0m\u001b[0;34m.\u001b[0m\u001b[0mresult_matrix\u001b[0m\u001b[0;34m[\u001b[0m\u001b[0mindex_tuple\u001b[0m\u001b[0;34m[\u001b[0m\u001b[0;36m0\u001b[0m\u001b[0;34m]\u001b[0m\u001b[0;34m]\u001b[0m\u001b[0;34m[\u001b[0m\u001b[0mindex_tuple\u001b[0m\u001b[0;34m[\u001b[0m\u001b[0;36m1\u001b[0m\u001b[0;34m]\u001b[0m\u001b[0;34m]\u001b[0m\u001b[0;34m\u001b[0m\u001b[0;34m\u001b[0m\u001b[0m\n\u001b[0m\u001b[1;32m     37\u001b[0m         \u001b[0;32mif\u001b[0m \u001b[0maccu\u001b[0m \u001b[0;34m>=\u001b[0m \u001b[0msum_accu\u001b[0m\u001b[0;34m:\u001b[0m\u001b[0;34m\u001b[0m\u001b[0;34m\u001b[0m\u001b[0m\n\u001b[1;32m     38\u001b[0m           \u001b[0msum_accu\u001b[0m \u001b[0;34m=\u001b[0m \u001b[0maccu\u001b[0m\u001b[0;34m\u001b[0m\u001b[0;34m\u001b[0m\u001b[0m\n",
            "\u001b[0;31mIndexError\u001b[0m: index 1 is out of bounds for axis 0 with size 1"
          ]
        }
      ]
    },
    {
      "cell_type": "code",
      "execution_count": null,
      "metadata": {
        "id": "tVDONv5lgpqn"
      },
      "outputs": [],
      "source": [
        "trainX_cluster_matrix = trainX_mcluster.to_numpy()\n",
        "eval = evaluation(trainX_cluster_matrix)\n",
        "print(\"Model + Kmean clustering result is:\")\n",
        "\n",
        "# evaluate purity\n",
        "purity = eval.eval_purity()\n",
        "print(\"Purity is  \" + str(purity))\n",
        "\n",
        "# evaluate rand index (Ajusted)\n",
        "ajusted_rand_index = eval.eval_ajusted_rand_index(trainX_mpred, train_y_orig)\n",
        "print(\"Ajusted rand index is \" + str(ajusted_rand_index))"
      ]
    },
    {
      "cell_type": "markdown",
      "source": [
        "**(aa) Summery of different dataset**"
      ],
      "metadata": {
        "id": "-PFWbtrnr1SQ"
      }
    },
    {
      "cell_type": "code",
      "source": [
        "print(\"===========================================================\")\n",
        "# trainX_mcluster = cluster_label_count(trainX_mpred, train_y_orig)\n",
        "eval = evaluation(trainX_mcluster.to_numpy())\n",
        "accu, pair_list = eval.manual_assign_label_cluster()\n",
        "purity = eval.eval_purity()\n",
        "ajusted_rand_index = eval.eval_ajusted_rand_index(trainX_mpred, train_y_orig)\n",
        "print(\"Evaluation for data with trained model + Kmean clustering (Seen label):\")\n",
        "print(\"Manural Assign Label accu: \", accu)\n",
        "print(\"Purity: \", purity)\n",
        "print(\"Adjust Random Index: \", ajusted_rand_index)\n",
        "print(\"===========================================================\")\n",
        "\n",
        "# trainX_cluster = cluster_label_count(trainX_pred, train_y_orig)\n",
        "eval = evaluation(trainX_cluster.to_numpy())\n",
        "accu, pair_list = eval.manual_assign_label_cluster()\n",
        "purity = eval.eval_purity()\n",
        "ajusted_rand_index = eval.eval_ajusted_rand_index(trainX_pred, train_y_orig)\n",
        "print(\"Evaluation for data with only Kmean clustering (Seen label):\")\n",
        "print(\"Manural Assign Label accu: \", accu)\n",
        "print(\"Purity: \", purity)\n",
        "print(\"Adjust Random Index: \", ajusted_rand_index)\n",
        "print(\"===========================================================\")\n",
        "\n",
        "# trainX2_mcluster = cluster_label_count(trainX2_mpred, train_uy_orig)\n",
        "eval = evaluation(trainX2_mcluster.to_numpy())\n",
        "accu, pair_list = eval.manual_assign_label_cluster()\n",
        "purity = eval.eval_purity()\n",
        "ajusted_rand_index = eval.eval_ajusted_rand_index(trainX2_mpred, train_uy_orig)\n",
        "print(\"Evaluation for data with trained model + Kmean clustering (Unseen label):\")\n",
        "print(\"Manural Assign Label accu: \", accu)\n",
        "print(\"Purity: \", purity)\n",
        "print(\"Adjust Random Index: \", ajusted_rand_index)\n",
        "print(\"===========================================================\")\n",
        "\n",
        "# trainX2_cluster = cluster_label_count(trainX2_pred, train_uy_orig)\n",
        "eval = evaluation(trainX2_cluster.to_numpy())\n",
        "accu, pair_list = eval.manual_assign_label_cluster()\n",
        "purity = eval.eval_purity()\n",
        "ajusted_rand_index = eval.eval_ajusted_rand_index(trainX2_pred, train_uy_orig)\n",
        "print(\"Evaluation for data with only Kmean clustering (Unseen label):\")\n",
        "print(\"Manural Assign Label accu: \", accu)\n",
        "print(\"Purity: \", purity)\n",
        "print(\"Adjust Random Index: \", ajusted_rand_index)\n",
        "print(\"===========================================================\")\n",
        "\n",
        "# untrainX2_cluster = cluster_label_count(untrainedX2_pred, train_uy_orig)\n",
        "eval = evaluation(untrainX2_cluster.to_numpy())\n",
        "accu, pair_list = eval.manual_assign_label_cluster()\n",
        "purity = eval.eval_purity()\n",
        "ajusted_rand_index = eval.eval_ajusted_rand_index(untrainedX2_pred, train_uy_orig)\n",
        "print(\"Evaluation for data with Untrained model + Kmean clustering (Unseen label):\")\n",
        "print(\"Manural Assign Label accu: \", accu)\n",
        "print(\"Purity: \", purity)\n",
        "print(\"Adjust Random Index: \", ajusted_rand_index)\n",
        "print(\"===========================================================\")\n"
      ],
      "metadata": {
        "id": "8j1M-ZO7sAfh"
      },
      "execution_count": null,
      "outputs": []
    },
    {
      "cell_type": "markdown",
      "source": [
        "Summary: We could see that comparing the first two, we get around 7-10% improvement for each accuracy if we use 2-step method (trained model + Kmean). Comparing 3rd and 4th result, we could see that for unseen class only, the improvement is also around 7-10%. Comparing 3rd and 5th, we coud see that the accuracy of 2-step (unseen class) using trained model is better than fully untrained model, which means our training do have improvement for unseen classes."
      ],
      "metadata": {
        "id": "AkG9XVqkzkli"
      }
    },
    {
      "cell_type": "markdown",
      "source": [
        "### **(b). Evaluate results based on the pca values**\n",
        "\n",
        "This part will do the above evaluations, but the pca value will change."
      ],
      "metadata": {
        "id": "RpjOIzWvqE-_"
      }
    },
    {
      "cell_type": "code",
      "source": [
        "def evaluation_results(model, data, data_y, pca_val):\n",
        "  encode_data = encoder(model, data)\n",
        "  # initialize decoder\n",
        "  decoder = Decoder()\n",
        "  data_pred = decoder.decode(encode_data, pca_val)\n",
        "  cluster = cluster_label_count(data_pred, data_y)\n",
        "\n",
        "  # initial evaluation class\n",
        "  eval = evaluation(cluster.to_numpy())  \n",
        "  # manual assign label to clusters\n",
        "  accu, pair_list = eval.manual_assign_label_cluster()\n",
        "  # purity\n",
        "  purity = eval.eval_purity()\n",
        "  # adjust rand index\n",
        "  adjusted_rand_index = eval.eval_ajusted_rand_index(data_pred, data_y)\n",
        "\n",
        "  return accu, purity, adjusted_rand_index"
      ],
      "metadata": {
        "id": "1KxgMSuhcu7a"
      },
      "execution_count": null,
      "outputs": []
    },
    {
      "cell_type": "code",
      "source": [
        "manutal_accu_list = []\n",
        "purity_list = []\n",
        "adj_list = []\n",
        "\n",
        "for i in range(5):\n",
        "  accu, purity, adjusted_rand_index = evaluation_results(model, train_uX_orig, train_uy_orig, 1+i*2)\n",
        "  manutal_accu_list.append(accu)\n",
        "  purity_list.append(purity)\n",
        "  adj_list.append(adjusted_rand_index)\n"
      ],
      "metadata": {
        "id": "sPZ7DvVgpyZi"
      },
      "execution_count": null,
      "outputs": []
    },
    {
      "cell_type": "code",
      "source": [
        "# Plot the accuracy curve for the model training\n",
        "def show_accu(accu_list, purity_list, adj_list):\n",
        "  fig = plt.figure(figsize=(12,6))\n",
        "  plt.subplots_adjust(bottom=0.2,right=0.85,top=0.95)\n",
        "  ax = fig.add_subplot(1,1,1)\n",
        "\n",
        "  ax.clear()\n",
        "  ax.set_xlabel('pca value (10:100)')\n",
        "  ax.set_ylabel('accuracy value')\n",
        "  ax.set_title('Testing accuracy curve for model')\n",
        "  ax.plot(accu_list, label='manual labeled pair')\n",
        "  ax.plot(purity_list, label='purity')\n",
        "  ax.plot(adj_list, label='adjust rand index')\n",
        "  ax.legend(loc='upper right')\n",
        "  fig.canvas.draw()\n",
        "\n",
        "show_accu(manutal_accu_list,purity_list,adj_list)"
      ],
      "metadata": {
        "id": "7zS7TUqxv6YV"
      },
      "execution_count": null,
      "outputs": []
    },
    {
      "cell_type": "markdown",
      "source": [
        "Summary: This plot does not show strong relationship between PCA values and prediction accuracy in our model."
      ],
      "metadata": {
        "id": "m3DaitbdzXT8"
      }
    },
    {
      "cell_type": "markdown",
      "metadata": {
        "id": "7CcohDGWOony"
      },
      "source": [
        "## **Part 7: Conclusion - Limitation & Future Improvement**\n",
        "The result produced by our 2-step method has shown around 7% improvement in the prediction accuracy for the unseen N class compare to the pure k-means clustering method. It also has shown around 10% improvement in the prediction accuracy for K+N (K seen, N unseen) class compare to the pure k-means clustering method. This is a moderate increase and there are room for improvement.\n",
        "\n",
        "One of the possible improvement is the design of the supervised network. Given our loss value 0.05, which is already very small, we achieve around 10% improvement in prediction accuracy. This implies that the loss function need to be improved for better indication of model accuracy and the network itself may require some redesign. Another limitations we have is the choice of the clustering method. Some other clustering method might be more appropriate to use. However, those methods might be complicated and so it is difficult to implement and we choose K-means instead. \n",
        "\n",
        "<!-- If the loss could be closer to 0, the network is likely to differentiate the K classes better given what it learned so far. The features we use to perform K-means might produce higher accuracy than the current one. We could achieve this by modifying our loss function or design a better network. -->\n",
        "\n",
        "\n",
        "\n",
        "There are also external limitations other than the design itself. One limitation of the work would be that the limited power of computation. If given a better computational resource, we would be able to train more complicated models and possibly obtain higher accuracy. "
      ]
    },
    {
      "cell_type": "markdown",
      "metadata": {
        "id": "US717RE5k0WK"
      },
      "source": [
        "### **Reference - Related Resources**\n",
        "\n",
        "Evaluation of clustering. (n.d.). Stanford University. Retrieved December 20, 2021, from https://nlp.stanford.edu/IR-book/html/htmledition/evaluation-of-clustering-1.html \n",
        "\n",
        "Doersch, C., Gupta, A., Efros, A. A. (2016, January 16). Unsupervised visual representation learning by context prediction. arXiv.org. Retrieved December 20, 2021, from https://arxiv.org/abs/1505.05192\n",
        "\n"
      ]
    }
  ],
  "metadata": {
    "accelerator": "GPU",
    "colab": {
      "collapsed_sections": [],
      "name": "Adaptation to new classes using 2-step method.ipynb",
      "provenance": []
    },
    "kernelspec": {
      "display_name": "Python 3",
      "name": "python3"
    },
    "language_info": {
      "name": "python"
    }
  },
  "nbformat": 4,
  "nbformat_minor": 0
}